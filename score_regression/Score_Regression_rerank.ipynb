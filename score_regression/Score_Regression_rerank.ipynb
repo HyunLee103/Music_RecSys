{
  "nbformat": 4,
  "nbformat_minor": 0,
  "metadata": {
    "colab": {
      "name": "Score_Regression_rerank",
      "provenance": [],
      "collapsed_sections": [],
      "toc_visible": true
    },
    "kernelspec": {
      "name": "python3",
      "display_name": "Python 3"
    }
  },
  "cells": [
    {
      "cell_type": "markdown",
      "metadata": {
        "id": "7_UPioyfyJHm",
        "colab_type": "text"
      },
      "source": [
        "[카카오 아레나 포럼\n",
        "_CF](https://arena.kakao.com/forum/topics/227)"
      ]
    },
    {
      "cell_type": "code",
      "metadata": {
        "id": "O0Kbqr-ay9A3",
        "colab_type": "code",
        "colab": {
          "base_uri": "https://localhost:8080/",
          "height": 142
        },
        "outputId": "befc7770-13c4-451d-b5f2-bcd7256320f3"
      },
      "source": [
        "from google.colab import drive\n",
        "drive.mount('/content/drive')"
      ],
      "execution_count": null,
      "outputs": [
        {
          "output_type": "stream",
          "text": [
            "Go to this URL in a browser: https://accounts.google.com/o/oauth2/auth?client_id=947318989803-6bn6qk8qdgf4n4g3pfee6491hc0brc4i.apps.googleusercontent.com&redirect_uri=urn%3aietf%3awg%3aoauth%3a2.0%3aoob&response_type=code&scope=email%20https%3a%2f%2fwww.googleapis.com%2fauth%2fdocs.test%20https%3a%2f%2fwww.googleapis.com%2fauth%2fdrive%20https%3a%2f%2fwww.googleapis.com%2fauth%2fdrive.photos.readonly%20https%3a%2f%2fwww.googleapis.com%2fauth%2fpeopleapi.readonly\n",
            "\n",
            "Enter your authorization code:\n",
            "··········\n",
            "Mounted at /content/drive\n"
          ],
          "name": "stdout"
        }
      ]
    },
    {
      "cell_type": "code",
      "metadata": {
        "id": "pCPviwbcfCMG",
        "colab_type": "code",
        "colab": {
          "base_uri": "https://localhost:8080/",
          "height": 290
        },
        "outputId": "58d843b4-45bf-42bd-c74b-55559336fd59"
      },
      "source": [
        "!pip install fire"
      ],
      "execution_count": null,
      "outputs": [
        {
          "output_type": "stream",
          "text": [
            "Collecting fire\n",
            "\u001b[?25l  Downloading https://files.pythonhosted.org/packages/34/a7/0e22e70778aca01a52b9c899d9c145c6396d7b613719cd63db97ffa13f2f/fire-0.3.1.tar.gz (81kB)\n",
            "\r\u001b[K     |████                            | 10kB 21.6MB/s eta 0:00:01\r\u001b[K     |████████                        | 20kB 1.7MB/s eta 0:00:01\r\u001b[K     |████████████▏                   | 30kB 2.3MB/s eta 0:00:01\r\u001b[K     |████████████████▏               | 40kB 2.5MB/s eta 0:00:01\r\u001b[K     |████████████████████▏           | 51kB 2.0MB/s eta 0:00:01\r\u001b[K     |████████████████████████▎       | 61kB 2.3MB/s eta 0:00:01\r\u001b[K     |████████████████████████████▎   | 71kB 2.5MB/s eta 0:00:01\r\u001b[K     |████████████████████████████████| 81kB 2.2MB/s \n",
            "\u001b[?25hRequirement already satisfied: six in /usr/local/lib/python3.6/dist-packages (from fire) (1.12.0)\n",
            "Requirement already satisfied: termcolor in /usr/local/lib/python3.6/dist-packages (from fire) (1.1.0)\n",
            "Building wheels for collected packages: fire\n",
            "  Building wheel for fire (setup.py) ... \u001b[?25l\u001b[?25hdone\n",
            "  Created wheel for fire: filename=fire-0.3.1-py2.py3-none-any.whl size=111005 sha256=d23f5b7b8b1934587c6afff2d75c58f49dc002743f9e46efcae29035d3364ccc\n",
            "  Stored in directory: /root/.cache/pip/wheels/c1/61/df/768b03527bf006b546dce284eb4249b185669e65afc5fbb2ac\n",
            "Successfully built fire\n",
            "Installing collected packages: fire\n",
            "Successfully installed fire-0.3.1\n"
          ],
          "name": "stdout"
        }
      ]
    },
    {
      "cell_type": "code",
      "metadata": {
        "id": "EAU13UsigVCw",
        "colab_type": "code",
        "colab": {}
      },
      "source": [
        "import numpy as np\n",
        "import pandas as pd\n",
        "\n",
        "import scipy.sparse as spr\n",
        "import pickle\n",
        "from scipy.sparse import hstack\n",
        "\n",
        "#song_meta = pd.read_json(\"drive/My Drive/KAKAO/song_meta.json\")"
      ],
      "execution_count": null,
      "outputs": []
    },
    {
      "cell_type": "code",
      "metadata": {
        "id": "aM0cQRU4dj9O",
        "colab_type": "code",
        "colab": {
          "base_uri": "https://localhost:8080/",
          "height": 37
        },
        "outputId": "f8074cb9-e6da-4976-f7e1-4bb5e630d23f"
      },
      "source": [
        "cd /content/drive/My Drive/Kakao arena"
      ],
      "execution_count": null,
      "outputs": [
        {
          "output_type": "stream",
          "text": [
            "/content/drive/My Drive/Kakao arena\n"
          ],
          "name": "stdout"
        }
      ]
    },
    {
      "cell_type": "markdown",
      "metadata": {
        "id": "x1DmeU9HmkOo",
        "colab_type": "text"
      },
      "source": [
        "# Pre_processing\n",
        "feature 추가 및 song_cnt >= 5"
      ]
    },
    {
      "cell_type": "code",
      "metadata": {
        "id": "fYtZqRFZmhq5",
        "colab_type": "code",
        "colab": {}
      },
      "source": [
        "train = pd.read_json('data/meta/train.json', typ = 'frame')\n",
        "song_meta = pd.read_json('/content/drive/My Drive/Kakao arena/data/meta/song_meta.json', typ = 'frame',encoding='utf-8')\n",
        "plylst_meta = pd.DataFrame(train[['id','tags','plylst_title']])"
      ],
      "execution_count": null,
      "outputs": []
    },
    {
      "cell_type": "code",
      "metadata": {
        "id": "oHOwC4Anm_PY",
        "colab_type": "code",
        "colab": {}
      },
      "source": [
        "plylst_song_map = train[['id', 'songs']]\n",
        "\n",
        "plylst_song_map_unnest = np.dstack(\n",
        "    (\n",
        "        np.repeat(plylst_song_map.id.values, list(map(len, plylst_song_map.songs))), \n",
        "        np.concatenate(plylst_song_map.songs.values)\n",
        "    )\n",
        ")\n",
        "\n",
        "plylst_song_map = pd.DataFrame(data = plylst_song_map_unnest[0], columns = plylst_song_map.columns)\n",
        "plylst_song_map['id'] = plylst_song_map['id'].astype(str)\n",
        "plylst_song_map['songs'] = plylst_song_map['songs'].astype(str)\n",
        "\n",
        "del plylst_song_map_unnest"
      ],
      "execution_count": null,
      "outputs": []
    },
    {
      "cell_type": "code",
      "metadata": {
        "id": "tS5HkDm2n27s",
        "colab_type": "code",
        "colab": {}
      },
      "source": [
        "plylst_song_map = plylst_song_map.astype(float)\n",
        "plylst_song_map = plylst_song_map.astype(int)"
      ],
      "execution_count": null,
      "outputs": []
    },
    {
      "cell_type": "code",
      "metadata": {
        "id": "4bQaMsY10O8-",
        "colab_type": "code",
        "colab": {
          "base_uri": "https://localhost:8080/",
          "height": 530
        },
        "outputId": "c56792d0-2fef-4cf8-800a-8ea9208b328a"
      },
      "source": [
        "song_meta"
      ],
      "execution_count": null,
      "outputs": [
        {
          "output_type": "execute_result",
          "data": {
            "text/html": [
              "<div>\n",
              "<style scoped>\n",
              "    .dataframe tbody tr th:only-of-type {\n",
              "        vertical-align: middle;\n",
              "    }\n",
              "\n",
              "    .dataframe tbody tr th {\n",
              "        vertical-align: top;\n",
              "    }\n",
              "\n",
              "    .dataframe thead th {\n",
              "        text-align: right;\n",
              "    }\n",
              "</style>\n",
              "<table border=\"1\" class=\"dataframe\">\n",
              "  <thead>\n",
              "    <tr style=\"text-align: right;\">\n",
              "      <th></th>\n",
              "      <th>song_gn_dtl_gnr_basket</th>\n",
              "      <th>issue_date</th>\n",
              "      <th>album_name</th>\n",
              "      <th>album_id</th>\n",
              "      <th>artist_id_basket</th>\n",
              "      <th>song_name</th>\n",
              "      <th>song_gn_gnr_basket</th>\n",
              "      <th>artist_name_basket</th>\n",
              "      <th>id</th>\n",
              "    </tr>\n",
              "  </thead>\n",
              "  <tbody>\n",
              "    <tr>\n",
              "      <th>0</th>\n",
              "      <td>[GN0901]</td>\n",
              "      <td>20140512</td>\n",
              "      <td>불후의 명곡 - 7080 추억의 얄개시대 팝송베스트</td>\n",
              "      <td>2255639</td>\n",
              "      <td>[2727]</td>\n",
              "      <td>Feelings</td>\n",
              "      <td>[GN0900]</td>\n",
              "      <td>[Various Artists]</td>\n",
              "      <td>0</td>\n",
              "    </tr>\n",
              "    <tr>\n",
              "      <th>1</th>\n",
              "      <td>[GN1601, GN1606]</td>\n",
              "      <td>20080421</td>\n",
              "      <td>Bach : Partitas Nos. 2, 3 &amp; 4</td>\n",
              "      <td>376431</td>\n",
              "      <td>[29966]</td>\n",
              "      <td>Bach : Partita No. 4 In D Major, BWV 828 - II....</td>\n",
              "      <td>[GN1600]</td>\n",
              "      <td>[Murray Perahia]</td>\n",
              "      <td>1</td>\n",
              "    </tr>\n",
              "    <tr>\n",
              "      <th>2</th>\n",
              "      <td>[GN0901]</td>\n",
              "      <td>20180518</td>\n",
              "      <td>Hit</td>\n",
              "      <td>4698747</td>\n",
              "      <td>[3361]</td>\n",
              "      <td>Solsbury Hill (Remastered 2002)</td>\n",
              "      <td>[GN0900]</td>\n",
              "      <td>[Peter Gabriel]</td>\n",
              "      <td>2</td>\n",
              "    </tr>\n",
              "    <tr>\n",
              "      <th>3</th>\n",
              "      <td>[GN1102, GN1101]</td>\n",
              "      <td>20151016</td>\n",
              "      <td>Feeling Right (Everything Is Nice) (Feat. Popc...</td>\n",
              "      <td>2644882</td>\n",
              "      <td>[838543]</td>\n",
              "      <td>Feeling Right (Everything Is Nice) (Feat. Popc...</td>\n",
              "      <td>[GN1100]</td>\n",
              "      <td>[Matoma]</td>\n",
              "      <td>3</td>\n",
              "    </tr>\n",
              "    <tr>\n",
              "      <th>4</th>\n",
              "      <td>[GN1802, GN1801]</td>\n",
              "      <td>20110824</td>\n",
              "      <td>그남자 그여자</td>\n",
              "      <td>2008470</td>\n",
              "      <td>[560160]</td>\n",
              "      <td>그남자 그여자</td>\n",
              "      <td>[GN1800]</td>\n",
              "      <td>[Jude Law]</td>\n",
              "      <td>4</td>\n",
              "    </tr>\n",
              "    <tr>\n",
              "      <th>...</th>\n",
              "      <td>...</td>\n",
              "      <td>...</td>\n",
              "      <td>...</td>\n",
              "      <td>...</td>\n",
              "      <td>...</td>\n",
              "      <td>...</td>\n",
              "      <td>...</td>\n",
              "      <td>...</td>\n",
              "      <td>...</td>\n",
              "    </tr>\n",
              "    <tr>\n",
              "      <th>707984</th>\n",
              "      <td>[GN2001]</td>\n",
              "      <td>19991219</td>\n",
              "      <td>The Best Best Of The Black President</td>\n",
              "      <td>65254</td>\n",
              "      <td>[166499]</td>\n",
              "      <td>Coffin For Head Of State</td>\n",
              "      <td>[GN2000]</td>\n",
              "      <td>[Fela Kuti]</td>\n",
              "      <td>707984</td>\n",
              "    </tr>\n",
              "    <tr>\n",
              "      <th>707985</th>\n",
              "      <td>[GN0901]</td>\n",
              "      <td>19860000</td>\n",
              "      <td>True Colors</td>\n",
              "      <td>44141</td>\n",
              "      <td>[11837]</td>\n",
              "      <td>Change Of Heart</td>\n",
              "      <td>[GN0900]</td>\n",
              "      <td>[Cyndi Lauper]</td>\n",
              "      <td>707985</td>\n",
              "    </tr>\n",
              "    <tr>\n",
              "      <th>707986</th>\n",
              "      <td>[GN0105, GN0101]</td>\n",
              "      <td>20160120</td>\n",
              "      <td>행보 2015 윤종신 / 작사가 윤종신 Live Part.1</td>\n",
              "      <td>2662866</td>\n",
              "      <td>[437]</td>\n",
              "      <td>스치듯 안녕</td>\n",
              "      <td>[GN0100]</td>\n",
              "      <td>[윤종신]</td>\n",
              "      <td>707986</td>\n",
              "    </tr>\n",
              "    <tr>\n",
              "      <th>707987</th>\n",
              "      <td>[GN1807, GN1801]</td>\n",
              "      <td>20131217</td>\n",
              "      <td>명상의 시간을 위한 뉴에이지 음악</td>\n",
              "      <td>2221722</td>\n",
              "      <td>[729868]</td>\n",
              "      <td>숲의 빛</td>\n",
              "      <td>[GN1800]</td>\n",
              "      <td>[Nature Piano]</td>\n",
              "      <td>707987</td>\n",
              "    </tr>\n",
              "    <tr>\n",
              "      <th>707988</th>\n",
              "      <td>[GN0601, GN0604]</td>\n",
              "      <td>19980000</td>\n",
              "      <td>김경호 Live</td>\n",
              "      <td>34663</td>\n",
              "      <td>[895]</td>\n",
              "      <td>Queen 명곡 멜로디</td>\n",
              "      <td>[GN0600]</td>\n",
              "      <td>[김경호]</td>\n",
              "      <td>707988</td>\n",
              "    </tr>\n",
              "  </tbody>\n",
              "</table>\n",
              "<p>707989 rows × 9 columns</p>\n",
              "</div>"
            ],
            "text/plain": [
              "       song_gn_dtl_gnr_basket  issue_date  ... artist_name_basket      id\n",
              "0                    [GN0901]    20140512  ...  [Various Artists]       0\n",
              "1            [GN1601, GN1606]    20080421  ...   [Murray Perahia]       1\n",
              "2                    [GN0901]    20180518  ...    [Peter Gabriel]       2\n",
              "3            [GN1102, GN1101]    20151016  ...           [Matoma]       3\n",
              "4            [GN1802, GN1801]    20110824  ...         [Jude Law]       4\n",
              "...                       ...         ...  ...                ...     ...\n",
              "707984               [GN2001]    19991219  ...        [Fela Kuti]  707984\n",
              "707985               [GN0901]    19860000  ...     [Cyndi Lauper]  707985\n",
              "707986       [GN0105, GN0101]    20160120  ...              [윤종신]  707986\n",
              "707987       [GN1807, GN1801]    20131217  ...     [Nature Piano]  707987\n",
              "707988       [GN0601, GN0604]    19980000  ...              [김경호]  707988\n",
              "\n",
              "[707989 rows x 9 columns]"
            ]
          },
          "metadata": {
            "tags": []
          },
          "execution_count": 185
        }
      ]
    },
    {
      "cell_type": "code",
      "metadata": {
        "id": "kMOj4UWkzl4d",
        "colab_type": "code",
        "colab": {
          "base_uri": "https://localhost:8080/",
          "height": 217
        },
        "outputId": "aa7adb0d-408b-4097-fc69-fe8c3853b4de"
      },
      "source": [
        "plylst_song_map = pd.merge(plylst_song_map,song_meta,how='left',left_on='songs',right_index=True)\n",
        "plylst_song_map = plylst_song_map.drop('id_y',axis=1)\n",
        "plylst_song_map.rename(columns={'id_x':'id'},inplace=True)\n",
        "plylst_song_map.head()"
      ],
      "execution_count": null,
      "outputs": [
        {
          "output_type": "execute_result",
          "data": {
            "text/html": [
              "<div>\n",
              "<style scoped>\n",
              "    .dataframe tbody tr th:only-of-type {\n",
              "        vertical-align: middle;\n",
              "    }\n",
              "\n",
              "    .dataframe tbody tr th {\n",
              "        vertical-align: top;\n",
              "    }\n",
              "\n",
              "    .dataframe thead th {\n",
              "        text-align: right;\n",
              "    }\n",
              "</style>\n",
              "<table border=\"1\" class=\"dataframe\">\n",
              "  <thead>\n",
              "    <tr style=\"text-align: right;\">\n",
              "      <th></th>\n",
              "      <th>id</th>\n",
              "      <th>songs</th>\n",
              "      <th>song_gn_dtl_gnr_basket</th>\n",
              "      <th>issue_date</th>\n",
              "      <th>album_name</th>\n",
              "      <th>album_id</th>\n",
              "      <th>artist_id_basket</th>\n",
              "      <th>song_name</th>\n",
              "      <th>song_gn_gnr_basket</th>\n",
              "      <th>artist_name_basket</th>\n",
              "    </tr>\n",
              "  </thead>\n",
              "  <tbody>\n",
              "    <tr>\n",
              "      <th>0</th>\n",
              "      <td>61281</td>\n",
              "      <td>525514</td>\n",
              "      <td>[GN1402, GN1401]</td>\n",
              "      <td>20130506</td>\n",
              "      <td>Hey Little Girl</td>\n",
              "      <td>2200223</td>\n",
              "      <td>[734201]</td>\n",
              "      <td>Hey Little Girl</td>\n",
              "      <td>[GN1400]</td>\n",
              "      <td>[The Sol]</td>\n",
              "    </tr>\n",
              "    <tr>\n",
              "      <th>1</th>\n",
              "      <td>61281</td>\n",
              "      <td>129701</td>\n",
              "      <td>[GN0901, GN0902, GN1001]</td>\n",
              "      <td>20130917</td>\n",
              "      <td>Brass</td>\n",
              "      <td>2201802</td>\n",
              "      <td>[536907]</td>\n",
              "      <td>Octagon</td>\n",
              "      <td>[GN0900, GN1000]</td>\n",
              "      <td>[Royal Bangs]</td>\n",
              "    </tr>\n",
              "    <tr>\n",
              "      <th>2</th>\n",
              "      <td>61281</td>\n",
              "      <td>383374</td>\n",
              "      <td>[GN1012, GN1005, GN1001]</td>\n",
              "      <td>19911021</td>\n",
              "      <td>Monsters Under The Bed</td>\n",
              "      <td>2216938</td>\n",
              "      <td>[166978]</td>\n",
              "      <td>The Road</td>\n",
              "      <td>[GN1000]</td>\n",
              "      <td>[Honeymoon Suite]</td>\n",
              "    </tr>\n",
              "    <tr>\n",
              "      <th>3</th>\n",
              "      <td>61281</td>\n",
              "      <td>562083</td>\n",
              "      <td>[GN1013, GN0901, GN0902, GN1001]</td>\n",
              "      <td>20000919</td>\n",
              "      <td>United</td>\n",
              "      <td>43227</td>\n",
              "      <td>[19035]</td>\n",
              "      <td>Honeymoon</td>\n",
              "      <td>[GN0900, GN1000]</td>\n",
              "      <td>[Phoenix]</td>\n",
              "    </tr>\n",
              "    <tr>\n",
              "      <th>4</th>\n",
              "      <td>61281</td>\n",
              "      <td>297861</td>\n",
              "      <td>[GN1013, GN0901, GN0902, GN1001]</td>\n",
              "      <td>20050306</td>\n",
              "      <td>Back To Bedlam</td>\n",
              "      <td>303657</td>\n",
              "      <td>[170117]</td>\n",
              "      <td>High</td>\n",
              "      <td>[GN0900, GN1000]</td>\n",
              "      <td>[James Blunt]</td>\n",
              "    </tr>\n",
              "  </tbody>\n",
              "</table>\n",
              "</div>"
            ],
            "text/plain": [
              "      id   songs  ... song_gn_gnr_basket  artist_name_basket\n",
              "0  61281  525514  ...           [GN1400]           [The Sol]\n",
              "1  61281  129701  ...   [GN0900, GN1000]       [Royal Bangs]\n",
              "2  61281  383374  ...           [GN1000]   [Honeymoon Suite]\n",
              "3  61281  562083  ...   [GN0900, GN1000]           [Phoenix]\n",
              "4  61281  297861  ...   [GN0900, GN1000]       [James Blunt]\n",
              "\n",
              "[5 rows x 10 columns]"
            ]
          },
          "metadata": {
            "tags": []
          },
          "execution_count": 186
        }
      ]
    },
    {
      "cell_type": "code",
      "metadata": {
        "id": "w96afwpEnLkO",
        "colab_type": "code",
        "colab": {
          "base_uri": "https://localhost:8080/",
          "height": 450
        },
        "outputId": "6e85fe50-d67f-4f15-94d1-87dee974534a"
      },
      "source": [
        "plylst_meta = pd.DataFrame(train[['id','tags','plylst_title']])\n",
        "plylst_meta"
      ],
      "execution_count": null,
      "outputs": [
        {
          "output_type": "execute_result",
          "data": {
            "text/html": [
              "<div>\n",
              "<style scoped>\n",
              "    .dataframe tbody tr th:only-of-type {\n",
              "        vertical-align: middle;\n",
              "    }\n",
              "\n",
              "    .dataframe tbody tr th {\n",
              "        vertical-align: top;\n",
              "    }\n",
              "\n",
              "    .dataframe thead th {\n",
              "        text-align: right;\n",
              "    }\n",
              "</style>\n",
              "<table border=\"1\" class=\"dataframe\">\n",
              "  <thead>\n",
              "    <tr style=\"text-align: right;\">\n",
              "      <th></th>\n",
              "      <th>id</th>\n",
              "      <th>tags</th>\n",
              "      <th>plylst_title</th>\n",
              "    </tr>\n",
              "  </thead>\n",
              "  <tbody>\n",
              "    <tr>\n",
              "      <th>0</th>\n",
              "      <td>61281</td>\n",
              "      <td>[락]</td>\n",
              "      <td>여행같은 음악</td>\n",
              "    </tr>\n",
              "    <tr>\n",
              "      <th>1</th>\n",
              "      <td>10532</td>\n",
              "      <td>[추억, 회상]</td>\n",
              "      <td>요즘 너 말야</td>\n",
              "    </tr>\n",
              "    <tr>\n",
              "      <th>2</th>\n",
              "      <td>76951</td>\n",
              "      <td>[까페, 잔잔한]</td>\n",
              "      <td>편하게, 잔잔하게 들을 수 있는 곡.-</td>\n",
              "    </tr>\n",
              "    <tr>\n",
              "      <th>3</th>\n",
              "      <td>147456</td>\n",
              "      <td>[연말, 눈오는날, 캐럴, 분위기, 따듯한, 크리스마스캐럴, 겨울노래, 크리스마스,...</td>\n",
              "      <td>크리스마스 분위기에 흠뻑 취하고 싶을때</td>\n",
              "    </tr>\n",
              "    <tr>\n",
              "      <th>4</th>\n",
              "      <td>27616</td>\n",
              "      <td>[댄스]</td>\n",
              "      <td>추억의 노래 ㅋ</td>\n",
              "    </tr>\n",
              "    <tr>\n",
              "      <th>...</th>\n",
              "      <td>...</td>\n",
              "      <td>...</td>\n",
              "      <td>...</td>\n",
              "    </tr>\n",
              "    <tr>\n",
              "      <th>115066</th>\n",
              "      <td>120325</td>\n",
              "      <td>[록메탈, 밴드사운드, 록, 락메탈, 메탈, 락, extreme]</td>\n",
              "      <td>METAL E'SM #2</td>\n",
              "    </tr>\n",
              "    <tr>\n",
              "      <th>115067</th>\n",
              "      <td>106976</td>\n",
              "      <td>[일렉]</td>\n",
              "      <td>빠른 리스너를 위한 따끈따끈한 최신 인기 EDM 모음!</td>\n",
              "    </tr>\n",
              "    <tr>\n",
              "      <th>115068</th>\n",
              "      <td>11343</td>\n",
              "      <td>[담시, 가족, 눈물, 그리움, 주인공, 나의_이야기, 사랑, 친구]</td>\n",
              "      <td>#1. 눈물이 앞을 가리는 나의_이야기</td>\n",
              "    </tr>\n",
              "    <tr>\n",
              "      <th>115069</th>\n",
              "      <td>131982</td>\n",
              "      <td>[잔잔한, 버스, 퇴근버스, Pop, 풍경, 퇴근길]</td>\n",
              "      <td>퇴근 버스에서 편히 들으면서 하루를 마무리하기에 좋은 POP</td>\n",
              "    </tr>\n",
              "    <tr>\n",
              "      <th>115070</th>\n",
              "      <td>100389</td>\n",
              "      <td>[노래추천, 팝송추천, 팝송, 팝송모음]</td>\n",
              "      <td>FAVORITE POPSONG!!!</td>\n",
              "    </tr>\n",
              "  </tbody>\n",
              "</table>\n",
              "<p>115071 rows × 3 columns</p>\n",
              "</div>"
            ],
            "text/plain": [
              "            id  ...                       plylst_title\n",
              "0        61281  ...                            여행같은 음악\n",
              "1        10532  ...                            요즘 너 말야\n",
              "2        76951  ...              편하게, 잔잔하게 들을 수 있는 곡.-\n",
              "3       147456  ...              크리스마스 분위기에 흠뻑 취하고 싶을때\n",
              "4        27616  ...                           추억의 노래 ㅋ\n",
              "...        ...  ...                                ...\n",
              "115066  120325  ...                      METAL E'SM #2\n",
              "115067  106976  ...     빠른 리스너를 위한 따끈따끈한 최신 인기 EDM 모음!\n",
              "115068   11343  ...              #1. 눈물이 앞을 가리는 나의_이야기\n",
              "115069  131982  ...  퇴근 버스에서 편히 들으면서 하루를 마무리하기에 좋은 POP\n",
              "115070  100389  ...                FAVORITE POPSONG!!!\n",
              "\n",
              "[115071 rows x 3 columns]"
            ]
          },
          "metadata": {
            "tags": []
          },
          "execution_count": 187
        }
      ]
    },
    {
      "cell_type": "code",
      "metadata": {
        "id": "XPmRNpcnnLff",
        "colab_type": "code",
        "colab": {
          "base_uri": "https://localhost:8080/",
          "height": 1000
        },
        "outputId": "6570aceb-c3fd-4baa-ef75-e444041c347f"
      },
      "source": [
        "for column in plylst_song_map.columns[1:]:\n",
        "  plylst_sum = pd.DataFrame(plylst_song_map.groupby('id')[column].apply(list))\n",
        "  plylst_sum = plylst_sum.reset_index()\n",
        "\n",
        "  plylst_sum['id'] = plylst_sum['id'].astype(str).astype(int)\n",
        "  plylst_meta = pd.merge(plylst_meta,plylst_sum,left_on='id',right_on='id',how='inner')\n",
        "\n",
        "plylst_meta"
      ],
      "execution_count": null,
      "outputs": [
        {
          "output_type": "execute_result",
          "data": {
            "text/html": [
              "<div>\n",
              "<style scoped>\n",
              "    .dataframe tbody tr th:only-of-type {\n",
              "        vertical-align: middle;\n",
              "    }\n",
              "\n",
              "    .dataframe tbody tr th {\n",
              "        vertical-align: top;\n",
              "    }\n",
              "\n",
              "    .dataframe thead th {\n",
              "        text-align: right;\n",
              "    }\n",
              "</style>\n",
              "<table border=\"1\" class=\"dataframe\">\n",
              "  <thead>\n",
              "    <tr style=\"text-align: right;\">\n",
              "      <th></th>\n",
              "      <th>id</th>\n",
              "      <th>tags</th>\n",
              "      <th>plylst_title</th>\n",
              "      <th>songs</th>\n",
              "      <th>song_gn_dtl_gnr_basket</th>\n",
              "      <th>issue_date</th>\n",
              "      <th>album_name</th>\n",
              "      <th>album_id</th>\n",
              "      <th>artist_id_basket</th>\n",
              "      <th>song_name</th>\n",
              "      <th>song_gn_gnr_basket</th>\n",
              "      <th>artist_name_basket</th>\n",
              "    </tr>\n",
              "  </thead>\n",
              "  <tbody>\n",
              "    <tr>\n",
              "      <th>0</th>\n",
              "      <td>61281</td>\n",
              "      <td>[락]</td>\n",
              "      <td>여행같은 음악</td>\n",
              "      <td>[525514, 129701, 383374, 562083, 297861, 13954...</td>\n",
              "      <td>[[GN1402, GN1401], [GN0901, GN0902, GN1001], [...</td>\n",
              "      <td>[20130506, 20130917, 19911021, 20000919, 20050...</td>\n",
              "      <td>[Hey Little Girl, Brass, Monsters Under The Be...</td>\n",
              "      <td>[2200223, 2201802, 2216938, 43227, 303657, 360...</td>\n",
              "      <td>[[734201], [536907], [166978], [19035], [17011...</td>\n",
              "      <td>[Hey Little Girl, Octagon, The Road, Honeymoon...</td>\n",
              "      <td>[[GN1400], [GN0900, GN1000], [GN1000], [GN0900...</td>\n",
              "      <td>[[The Sol], [Royal Bangs], [Honeymoon Suite], ...</td>\n",
              "    </tr>\n",
              "    <tr>\n",
              "      <th>1</th>\n",
              "      <td>10532</td>\n",
              "      <td>[추억, 회상]</td>\n",
              "      <td>요즘 너 말야</td>\n",
              "      <td>[432406, 675945, 497066, 120377, 389529, 24427...</td>\n",
              "      <td>[[GN0101, GN0103], [GN0601, GN0605], [GN0104, ...</td>\n",
              "      <td>[20030314, 20061204, 20061204, 20071023, 20080...</td>\n",
              "      <td>[His Ballad Ⅰ, Audition, Audition, 혜성, 바보에게......</td>\n",
              "      <td>[30473, 333687, 333687, 359890, 375797, 390452...</td>\n",
              "      <td>[[26], [203912], [203912], [203912], [4263], [...</td>\n",
              "      <td>[한사람을 위한 마음, Audition (Time2Rock), 기다리다, 좀 더 둘...</td>\n",
              "      <td>[[GN0100], [GN0600], [GN0100], [GN0600], [GN01...</td>\n",
              "      <td>[[이승환], [윤하 (YOUNHA)], [윤하 (YOUNHA)], [윤하 (YOU...</td>\n",
              "    </tr>\n",
              "    <tr>\n",
              "      <th>2</th>\n",
              "      <td>76951</td>\n",
              "      <td>[까페, 잔잔한]</td>\n",
              "      <td>편하게, 잔잔하게 들을 수 있는 곡.-</td>\n",
              "      <td>[83116, 276692, 166267, 186301, 354465, 256598...</td>\n",
              "      <td>[[GN0401, GN0403], [GN0401, GN0403], [GN0501, ...</td>\n",
              "      <td>[20081029, 20081029, 20140818, 20141126, 20141...</td>\n",
              "      <td>[Soul Light, Soul Light, 너를 사랑하니까, 247, 그랬으면 (...</td>\n",
              "      <td>[464152, 464152, 2274784, 2292294, 2296308, 23...</td>\n",
              "      <td>[[262975], [262975], [782381], [165235], [7321...</td>\n",
              "      <td>[도시의 밤, I`m Alright, 너를 좋아하니까, 247 (Feat. AMJ)...</td>\n",
              "      <td>[[GN0400], [GN0400], [GN0500, GN0600], [GN0400...</td>\n",
              "      <td>[[소울라이츠], [소울라이츠], [뷰티핸섬], [소울사이어티], [카멜], [오디...</td>\n",
              "    </tr>\n",
              "    <tr>\n",
              "      <th>3</th>\n",
              "      <td>147456</td>\n",
              "      <td>[연말, 눈오는날, 캐럴, 분위기, 따듯한, 크리스마스캐럴, 겨울노래, 크리스마스,...</td>\n",
              "      <td>크리스마스 분위기에 흠뻑 취하고 싶을때</td>\n",
              "      <td>[394031, 195524, 540149, 287984, 440773, 10033...</td>\n",
              "      <td>[[GN0908, GN1509, GN0901, GN2207, GN1501, GN15...</td>\n",
              "      <td>[20191115, 19981201, 20061124, 20101102, 20101...</td>\n",
              "      <td>[Frozen 2 (Original Motion Picture Soundtrack/...</td>\n",
              "      <td>[10352535, 3167, 351629, 1074764, 1074764, 107...</td>\n",
              "      <td>[[232538, 838137], [925], [220998], [2274], [2...</td>\n",
              "      <td>[Into the Unknown (From &amp;#34;Frozen 2&amp;#34;/Sou...</td>\n",
              "      <td>[[GN1500, GN0900, GN2200], [GN0100], [GN0900],...</td>\n",
              "      <td>[[Idina Menzel, Aurora], [김동률], [Ashley Tisdal...</td>\n",
              "    </tr>\n",
              "    <tr>\n",
              "      <th>4</th>\n",
              "      <td>27616</td>\n",
              "      <td>[댄스]</td>\n",
              "      <td>추억의 노래 ㅋ</td>\n",
              "      <td>[159327, 553610, 5130, 645103, 294435, 100657,...</td>\n",
              "      <td>[[GN0101], [GN0101, GN0103], [GN2502, GN2506, ...</td>\n",
              "      <td>[20010619, 19970520, 19970514, 19940900, 20020...</td>\n",
              "      <td>[First Story, 2집- 타인, 학원별곡, Blue City, No. 1, ...</td>\n",
              "      <td>[6846, 5458, 5368, 3957, 16305, 3259, 3248, 32...</td>\n",
              "      <td>[[10575], [100045], [100052], [1130], [2165], ...</td>\n",
              "      <td>[눈물에 얼굴을 묻는다, 타인, 학원별곡 (學園別曲), 날 떠나지마, No.1, D...</td>\n",
              "      <td>[[GN0100], [GN0100], [GN2500, GN0200], [GN0200...</td>\n",
              "      <td>[[장나라], [영턱스클럽], [젝스키스], [박진영], [보아 (BoA)], [D...</td>\n",
              "    </tr>\n",
              "    <tr>\n",
              "      <th>...</th>\n",
              "      <td>...</td>\n",
              "      <td>...</td>\n",
              "      <td>...</td>\n",
              "      <td>...</td>\n",
              "      <td>...</td>\n",
              "      <td>...</td>\n",
              "      <td>...</td>\n",
              "      <td>...</td>\n",
              "      <td>...</td>\n",
              "      <td>...</td>\n",
              "      <td>...</td>\n",
              "      <td>...</td>\n",
              "    </tr>\n",
              "    <tr>\n",
              "      <th>115066</th>\n",
              "      <td>120325</td>\n",
              "      <td>[록메탈, 밴드사운드, 록, 락메탈, 메탈, 락, extreme]</td>\n",
              "      <td>METAL E'SM #2</td>\n",
              "      <td>[429629, 441511, 612106, 516359, 691768, 38714...</td>\n",
              "      <td>[[GN1006, GN1013, GN1001], [GN1007, GN1013, GN...</td>\n",
              "      <td>[20040117, 20011108, 20011108, 20011108, 20001...</td>\n",
              "      <td>[Devil Driver, The War Of Art, The War Of Art,...</td>\n",
              "      <td>[33725, 65802, 65802, 65802, 316229, 349526, 3...</td>\n",
              "      <td>[[108340], [105339], [105339], [105339], [1011...</td>\n",
              "      <td>[Cry For Me Sky (Eulogy Of The Scorned), Song ...</td>\n",
              "      <td>[[GN1000], [GN1000], [GN1000], [GN1000], [GN10...</td>\n",
              "      <td>[[DevilDriver], [American Head Charge], [Ameri...</td>\n",
              "    </tr>\n",
              "    <tr>\n",
              "      <th>115067</th>\n",
              "      <td>106976</td>\n",
              "      <td>[일렉]</td>\n",
              "      <td>빠른 리스너를 위한 따끈따끈한 최신 인기 EDM 모음!</td>\n",
              "      <td>[321330, 216057, 534472, 240306, 331098, 23288...</td>\n",
              "      <td>[[GN1104, GN1101], [GN1104, GN1102, GN1101], [...</td>\n",
              "      <td>[20151208, 20151216, 20150224, 20150820, 20150...</td>\n",
              "      <td>[Crank (Running Away), Make That Booty Bounce,...</td>\n",
              "      <td>[2655210, 2656912, 2305743, 2335671, 2639899, ...</td>\n",
              "      <td>[[839169], [858588], [687821], [775358], [7361...</td>\n",
              "      <td>[Crank (Running Away) (Original Mix), Make Tha...</td>\n",
              "      <td>[[GN1100], [GN1100], [GN1100], [GN1100], [GN11...</td>\n",
              "      <td>[[Komes], [Ctrl Alt Del], [Parachute Youth], [...</td>\n",
              "    </tr>\n",
              "    <tr>\n",
              "      <th>115068</th>\n",
              "      <td>11343</td>\n",
              "      <td>[담시, 가족, 눈물, 그리움, 주인공, 나의_이야기, 사랑, 친구]</td>\n",
              "      <td>#1. 눈물이 앞을 가리는 나의_이야기</td>\n",
              "      <td>[50512, 249024, 250608, 371171, 229942, 694943...</td>\n",
              "      <td>[[GN0105, GN0101], [GN0105, GN0101], [GN2502, ...</td>\n",
              "      <td>[20170216, 20190409, 20070608, 20080403, 20080...</td>\n",
              "      <td>[졸업사진, 없더라, Cheerful Sensibility, 2008 연가 SG 워...</td>\n",
              "      <td>[10039116, 10271886, 352436, 375262, 375294, 7...</td>\n",
              "      <td>[[259768], [174997], [226490], [108363], [2428...</td>\n",
              "      <td>[졸업사진, 없더라, 한사람만, 보고 싶어 (SG 워너비 Ver.), 길에서, 눈물...</td>\n",
              "      <td>[[GN0100], [GN0100], [GN2500, GN0600], [GN0100...</td>\n",
              "      <td>[[김진호 (SG워너비)], [가비엔제이], [FTISLAND (FT아일랜드)], ...</td>\n",
              "    </tr>\n",
              "    <tr>\n",
              "      <th>115069</th>\n",
              "      <td>131982</td>\n",
              "      <td>[잔잔한, 버스, 퇴근버스, Pop, 풍경, 퇴근길]</td>\n",
              "      <td>퇴근 버스에서 편히 들으면서 하루를 마무리하기에 좋은 POP</td>\n",
              "      <td>[533534, 608114, 343608, 417140, 609009, 30217...</td>\n",
              "      <td>[[GN1107, GN1102, GN1101], [GN1013, GN1008, GN...</td>\n",
              "      <td>[19980116, 20030407, 20060706, 20091016, 20100...</td>\n",
              "      <td>[Moon Safari, Frengers, The Eraser, 트와일라잇 2 : ...</td>\n",
              "      <td>[32683, 35676, 321390, 712652, 993852, 1027351...</td>\n",
              "      <td>[[100783], [109140], [38253], [243434, 403764]...</td>\n",
              "      <td>[Remember, Comforting Sounds, Black Swan, Rosy...</td>\n",
              "      <td>[[GN1100], [GN1000], [GN1000], [GN1500, GN1000...</td>\n",
              "      <td>[[Air], [Mew], [Thom Yorke], [Bon Iver, St. Vi...</td>\n",
              "    </tr>\n",
              "    <tr>\n",
              "      <th>115070</th>\n",
              "      <td>100389</td>\n",
              "      <td>[노래추천, 팝송추천, 팝송, 팝송모음]</td>\n",
              "      <td>FAVORITE POPSONG!!!</td>\n",
              "      <td>[26008, 456354, 324105, 89871, 135272, 143548,...</td>\n",
              "      <td>[[GN1402, GN1401], [GN1012, GN1002, GN1001], [...</td>\n",
              "      <td>[19961001, 19950404, 19950404, 19951107, 19970...</td>\n",
              "      <td>[A Few Small Repairs, The Bends, The Bends, Ma...</td>\n",
              "      <td>[18590, 19828, 19828, 19989, 19993, 19993, 202...</td>\n",
              "      <td>[[3079], [100781], [100781], [103964], [104369...</td>\n",
              "      <td>[Sunny Came Home, High And Dry, Fake Plastic T...</td>\n",
              "      <td>[[GN1400], [GN1000], [GN1000], [GN1000], [GN10...</td>\n",
              "      <td>[[Shawn Colvin], [Radiohead], [Radiohead], [Qu...</td>\n",
              "    </tr>\n",
              "  </tbody>\n",
              "</table>\n",
              "<p>115071 rows × 12 columns</p>\n",
              "</div>"
            ],
            "text/plain": [
              "            id  ...                                 artist_name_basket\n",
              "0        61281  ...  [[The Sol], [Royal Bangs], [Honeymoon Suite], ...\n",
              "1        10532  ...  [[이승환], [윤하 (YOUNHA)], [윤하 (YOUNHA)], [윤하 (YOU...\n",
              "2        76951  ...  [[소울라이츠], [소울라이츠], [뷰티핸섬], [소울사이어티], [카멜], [오디...\n",
              "3       147456  ...  [[Idina Menzel, Aurora], [김동률], [Ashley Tisdal...\n",
              "4        27616  ...  [[장나라], [영턱스클럽], [젝스키스], [박진영], [보아 (BoA)], [D...\n",
              "...        ...  ...                                                ...\n",
              "115066  120325  ...  [[DevilDriver], [American Head Charge], [Ameri...\n",
              "115067  106976  ...  [[Komes], [Ctrl Alt Del], [Parachute Youth], [...\n",
              "115068   11343  ...  [[김진호 (SG워너비)], [가비엔제이], [FTISLAND (FT아일랜드)], ...\n",
              "115069  131982  ...  [[Air], [Mew], [Thom Yorke], [Bon Iver, St. Vi...\n",
              "115070  100389  ...  [[Shawn Colvin], [Radiohead], [Radiohead], [Qu...\n",
              "\n",
              "[115071 rows x 12 columns]"
            ]
          },
          "metadata": {
            "tags": []
          },
          "execution_count": 188
        }
      ]
    },
    {
      "cell_type": "code",
      "metadata": {
        "id": "QPShVzeV2e_F",
        "colab_type": "code",
        "colab": {
          "base_uri": "https://localhost:8080/",
          "height": 1000
        },
        "outputId": "9455cdb9-c261-42ee-82c2-e4d4c4d0a4bc"
      },
      "source": [
        "list_columns = ['song_gn_dtl_gnr_basket','artist_id_basket','song_gn_gnr_basket','artist_name_basket']\n",
        "\n",
        "for column in list_columns:\n",
        "  plylst_meta[f'{column}_flatten'] = plylst_meta[column].map(lambda x : sum(x,[])) # 이중리스트 단일 리스트로. (list_columns의 column들이 이중리스트인 것들)\n",
        "  plylst_meta[f'{column}_unique'] = plylst_meta[f'{column}_flatten'].map(lambda x : list(set(x))) # 리스트 > 집합 > 리스트로 unique한 값 남김\n",
        "  plylst_meta[f'{column}_count'] = plylst_meta[f'{column}_unique'].map(lambda x : len(x)) # unique한 것 개수 세기\n",
        "\n",
        "plylst_meta"
      ],
      "execution_count": null,
      "outputs": [
        {
          "output_type": "execute_result",
          "data": {
            "text/html": [
              "<div>\n",
              "<style scoped>\n",
              "    .dataframe tbody tr th:only-of-type {\n",
              "        vertical-align: middle;\n",
              "    }\n",
              "\n",
              "    .dataframe tbody tr th {\n",
              "        vertical-align: top;\n",
              "    }\n",
              "\n",
              "    .dataframe thead th {\n",
              "        text-align: right;\n",
              "    }\n",
              "</style>\n",
              "<table border=\"1\" class=\"dataframe\">\n",
              "  <thead>\n",
              "    <tr style=\"text-align: right;\">\n",
              "      <th></th>\n",
              "      <th>id</th>\n",
              "      <th>tags</th>\n",
              "      <th>plylst_title</th>\n",
              "      <th>songs</th>\n",
              "      <th>song_gn_dtl_gnr_basket</th>\n",
              "      <th>issue_date</th>\n",
              "      <th>album_name</th>\n",
              "      <th>album_id</th>\n",
              "      <th>artist_id_basket</th>\n",
              "      <th>song_name</th>\n",
              "      <th>song_gn_gnr_basket</th>\n",
              "      <th>artist_name_basket</th>\n",
              "      <th>song_gn_dtl_gnr_basket_flatten</th>\n",
              "      <th>song_gn_dtl_gnr_basket_unique</th>\n",
              "      <th>song_gn_dtl_gnr_basket_count</th>\n",
              "      <th>artist_id_basket_flatten</th>\n",
              "      <th>artist_id_basket_unique</th>\n",
              "      <th>artist_id_basket_count</th>\n",
              "      <th>song_gn_gnr_basket_flatten</th>\n",
              "      <th>song_gn_gnr_basket_unique</th>\n",
              "      <th>song_gn_gnr_basket_count</th>\n",
              "      <th>artist_name_basket_flatten</th>\n",
              "      <th>artist_name_basket_unique</th>\n",
              "      <th>artist_name_basket_count</th>\n",
              "    </tr>\n",
              "  </thead>\n",
              "  <tbody>\n",
              "    <tr>\n",
              "      <th>0</th>\n",
              "      <td>61281</td>\n",
              "      <td>[락]</td>\n",
              "      <td>여행같은 음악</td>\n",
              "      <td>[525514, 129701, 383374, 562083, 297861, 13954...</td>\n",
              "      <td>[[GN1402, GN1401], [GN0901, GN0902, GN1001], [...</td>\n",
              "      <td>[20130506, 20130917, 19911021, 20000919, 20050...</td>\n",
              "      <td>[Hey Little Girl, Brass, Monsters Under The Be...</td>\n",
              "      <td>[2200223, 2201802, 2216938, 43227, 303657, 360...</td>\n",
              "      <td>[[734201], [536907], [166978], [19035], [17011...</td>\n",
              "      <td>[Hey Little Girl, Octagon, The Road, Honeymoon...</td>\n",
              "      <td>[[GN1400], [GN0900, GN1000], [GN1000], [GN0900...</td>\n",
              "      <td>[[The Sol], [Royal Bangs], [Honeymoon Suite], ...</td>\n",
              "      <td>[GN1402, GN1401, GN0901, GN0902, GN1001, GN101...</td>\n",
              "      <td>[GN1013, GN0902, GN1901, GN1012, GN1003, GN130...</td>\n",
              "      <td>18</td>\n",
              "      <td>[734201, 536907, 166978, 19035, 170117, 19035,...</td>\n",
              "      <td>[166978, 182425, 495811, 170117, 227971, 57773...</td>\n",
              "      <td>17</td>\n",
              "      <td>[GN1400, GN0900, GN1000, GN1000, GN0900, GN100...</td>\n",
              "      <td>[GN0900, GN1000, GN1100, GN1900, GN1400, GN1300]</td>\n",
              "      <td>6</td>\n",
              "      <td>[The Sol, Royal Bangs, Honeymoon Suite, Phoeni...</td>\n",
              "      <td>[OneRepublic, Man Man, Bruno Mars, Cody Simpso...</td>\n",
              "      <td>17</td>\n",
              "    </tr>\n",
              "    <tr>\n",
              "      <th>1</th>\n",
              "      <td>10532</td>\n",
              "      <td>[추억, 회상]</td>\n",
              "      <td>요즘 너 말야</td>\n",
              "      <td>[432406, 675945, 497066, 120377, 389529, 24427...</td>\n",
              "      <td>[[GN0101, GN0103], [GN0601, GN0605], [GN0104, ...</td>\n",
              "      <td>[20030314, 20061204, 20061204, 20071023, 20080...</td>\n",
              "      <td>[His Ballad Ⅰ, Audition, Audition, 혜성, 바보에게......</td>\n",
              "      <td>[30473, 333687, 333687, 359890, 375797, 390452...</td>\n",
              "      <td>[[26], [203912], [203912], [203912], [4263], [...</td>\n",
              "      <td>[한사람을 위한 마음, Audition (Time2Rock), 기다리다, 좀 더 둘...</td>\n",
              "      <td>[[GN0100], [GN0600], [GN0100], [GN0600], [GN01...</td>\n",
              "      <td>[[이승환], [윤하 (YOUNHA)], [윤하 (YOUNHA)], [윤하 (YOU...</td>\n",
              "      <td>[GN0101, GN0103, GN0601, GN0605, GN0104, GN010...</td>\n",
              "      <td>[GN0502, GN1601, GN1504, GN0801, GN0104, GN060...</td>\n",
              "      <td>29</td>\n",
              "      <td>[26, 203912, 203912, 203912, 4263, 1868, 1121,...</td>\n",
              "      <td>[203912, 774540, 602511, 184730, 26, 925, 5371...</td>\n",
              "      <td>21</td>\n",
              "      <td>[GN0100, GN0600, GN0100, GN0600, GN0100, GN060...</td>\n",
              "      <td>[GN1800, GN2600, GN0600, GN0500, GN0900, GN010...</td>\n",
              "      <td>11</td>\n",
              "      <td>[이승환, 윤하 (YOUNHA), 윤하 (YOUNHA), 윤하 (YOUNHA), 박...</td>\n",
              "      <td>[이상순, 이승철, Manhattan Jazz Orchestra, 윤하 (YOUNH...</td>\n",
              "      <td>21</td>\n",
              "    </tr>\n",
              "    <tr>\n",
              "      <th>2</th>\n",
              "      <td>76951</td>\n",
              "      <td>[까페, 잔잔한]</td>\n",
              "      <td>편하게, 잔잔하게 들을 수 있는 곡.-</td>\n",
              "      <td>[83116, 276692, 166267, 186301, 354465, 256598...</td>\n",
              "      <td>[[GN0401, GN0403], [GN0401, GN0403], [GN0501, ...</td>\n",
              "      <td>[20081029, 20081029, 20140818, 20141126, 20141...</td>\n",
              "      <td>[Soul Light, Soul Light, 너를 사랑하니까, 247, 그랬으면 (...</td>\n",
              "      <td>[464152, 464152, 2274784, 2292294, 2296308, 23...</td>\n",
              "      <td>[[262975], [262975], [782381], [165235], [7321...</td>\n",
              "      <td>[도시의 밤, I`m Alright, 너를 좋아하니까, 247 (Feat. AMJ)...</td>\n",
              "      <td>[[GN0400], [GN0400], [GN0500, GN0600], [GN0400...</td>\n",
              "      <td>[[소울라이츠], [소울라이츠], [뷰티핸섬], [소울사이어티], [카멜], [오디...</td>\n",
              "      <td>[GN0401, GN0403, GN0401, GN0403, GN0501, GN060...</td>\n",
              "      <td>[GN1703, GN0101, GN0402, GN1701, GN0502, GN030...</td>\n",
              "      <td>19</td>\n",
              "      <td>[262975, 262975, 782381, 165235, 732108, 86902...</td>\n",
              "      <td>[205707, 542360, 757273, 869026, 782242, 77341...</td>\n",
              "      <td>23</td>\n",
              "      <td>[GN0400, GN0400, GN0500, GN0600, GN0400, GN010...</td>\n",
              "      <td>[GN2600, GN0600, GN0500, GN0100, GN0400, GN080...</td>\n",
              "      <td>8</td>\n",
              "      <td>[소울라이츠, 소울라이츠, 뷰티핸섬, 소울사이어티, 카멜, 오디오라인 (Audiol...</td>\n",
              "      <td>[카멜, 쏠라티, 소울사이어티, 프롬유 (From.U), 소심한 오빠들, 김새한길,...</td>\n",
              "      <td>23</td>\n",
              "    </tr>\n",
              "    <tr>\n",
              "      <th>3</th>\n",
              "      <td>147456</td>\n",
              "      <td>[연말, 눈오는날, 캐럴, 분위기, 따듯한, 크리스마스캐럴, 겨울노래, 크리스마스,...</td>\n",
              "      <td>크리스마스 분위기에 흠뻑 취하고 싶을때</td>\n",
              "      <td>[394031, 195524, 540149, 287984, 440773, 10033...</td>\n",
              "      <td>[[GN0908, GN1509, GN0901, GN2207, GN1501, GN15...</td>\n",
              "      <td>[20191115, 19981201, 20061124, 20101102, 20101...</td>\n",
              "      <td>[Frozen 2 (Original Motion Picture Soundtrack/...</td>\n",
              "      <td>[10352535, 3167, 351629, 1074764, 1074764, 107...</td>\n",
              "      <td>[[232538, 838137], [925], [220998], [2274], [2...</td>\n",
              "      <td>[Into the Unknown (From &amp;#34;Frozen 2&amp;#34;/Sou...</td>\n",
              "      <td>[[GN1500, GN0900, GN2200], [GN0100], [GN0900],...</td>\n",
              "      <td>[[Idina Menzel, Aurora], [김동률], [Ashley Tisdal...</td>\n",
              "      <td>[GN0908, GN1509, GN0901, GN2207, GN1501, GN150...</td>\n",
              "      <td>[GN0502, GN0506, GN1504, GN0801, GN0708, GN060...</td>\n",
              "      <td>31</td>\n",
              "      <td>[232538, 838137, 925, 220998, 2274, 2274, 2274...</td>\n",
              "      <td>[2640648, 773385, 1202067, 925, 101921, 205858...</td>\n",
              "      <td>41</td>\n",
              "      <td>[GN1500, GN0900, GN2200, GN0100, GN0900, GN130...</td>\n",
              "      <td>[GN1800, GN0600, GN0500, GN0900, GN0100, GN170...</td>\n",
              "      <td>11</td>\n",
              "      <td>[Idina Menzel, Aurora, 김동률, Ashley Tisdale, Ma...</td>\n",
              "      <td>[Stevie Wonder, Agatha Lee Monn, 이석훈, Chickens...</td>\n",
              "      <td>41</td>\n",
              "    </tr>\n",
              "    <tr>\n",
              "      <th>4</th>\n",
              "      <td>27616</td>\n",
              "      <td>[댄스]</td>\n",
              "      <td>추억의 노래 ㅋ</td>\n",
              "      <td>[159327, 553610, 5130, 645103, 294435, 100657,...</td>\n",
              "      <td>[[GN0101], [GN0101, GN0103], [GN2502, GN2506, ...</td>\n",
              "      <td>[20010619, 19970520, 19970514, 19940900, 20020...</td>\n",
              "      <td>[First Story, 2집- 타인, 학원별곡, Blue City, No. 1, ...</td>\n",
              "      <td>[6846, 5458, 5368, 3957, 16305, 3259, 3248, 32...</td>\n",
              "      <td>[[10575], [100045], [100052], [1130], [2165], ...</td>\n",
              "      <td>[눈물에 얼굴을 묻는다, 타인, 학원별곡 (學園別曲), 날 떠나지마, No.1, D...</td>\n",
              "      <td>[[GN0100], [GN0100], [GN2500, GN0200], [GN0200...</td>\n",
              "      <td>[[장나라], [영턱스클럽], [젝스키스], [박진영], [보아 (BoA)], [D...</td>\n",
              "      <td>[GN0101, GN0101, GN0103, GN2502, GN2506, GN250...</td>\n",
              "      <td>[GN0302, GN2505, GN0101, GN0604, GN0303, GN250...</td>\n",
              "      <td>18</td>\n",
              "      <td>[10575, 100045, 100052, 1130, 2165, 100005, 10...</td>\n",
              "      <td>[100737, 100101, 3854, 1177, 3614, 100127, 100...</td>\n",
              "      <td>37</td>\n",
              "      <td>[GN0100, GN0100, GN2500, GN0200, GN0200, GN250...</td>\n",
              "      <td>[GN0600, GN0200, GN0100, GN0400, GN0300, GN2500]</td>\n",
              "      <td>6</td>\n",
              "      <td>[장나라, 영턱스클럽, 젝스키스, 박진영, 보아 (BoA), DJ DOC, 핑클 (...</td>\n",
              "      <td>[신화, 보아 (BoA), 플라이 투 더 스카이, R.ef, 슈가, 박진영, 솔리드...</td>\n",
              "      <td>37</td>\n",
              "    </tr>\n",
              "    <tr>\n",
              "      <th>...</th>\n",
              "      <td>...</td>\n",
              "      <td>...</td>\n",
              "      <td>...</td>\n",
              "      <td>...</td>\n",
              "      <td>...</td>\n",
              "      <td>...</td>\n",
              "      <td>...</td>\n",
              "      <td>...</td>\n",
              "      <td>...</td>\n",
              "      <td>...</td>\n",
              "      <td>...</td>\n",
              "      <td>...</td>\n",
              "      <td>...</td>\n",
              "      <td>...</td>\n",
              "      <td>...</td>\n",
              "      <td>...</td>\n",
              "      <td>...</td>\n",
              "      <td>...</td>\n",
              "      <td>...</td>\n",
              "      <td>...</td>\n",
              "      <td>...</td>\n",
              "      <td>...</td>\n",
              "      <td>...</td>\n",
              "      <td>...</td>\n",
              "    </tr>\n",
              "    <tr>\n",
              "      <th>115066</th>\n",
              "      <td>120325</td>\n",
              "      <td>[록메탈, 밴드사운드, 록, 락메탈, 메탈, 락, extreme]</td>\n",
              "      <td>METAL E'SM #2</td>\n",
              "      <td>[429629, 441511, 612106, 516359, 691768, 38714...</td>\n",
              "      <td>[[GN1006, GN1013, GN1001], [GN1007, GN1013, GN...</td>\n",
              "      <td>[20040117, 20011108, 20011108, 20011108, 20001...</td>\n",
              "      <td>[Devil Driver, The War Of Art, The War Of Art,...</td>\n",
              "      <td>[33725, 65802, 65802, 65802, 316229, 349526, 3...</td>\n",
              "      <td>[[108340], [105339], [105339], [105339], [1011...</td>\n",
              "      <td>[Cry For Me Sky (Eulogy Of The Scorned), Song ...</td>\n",
              "      <td>[[GN1000], [GN1000], [GN1000], [GN1000], [GN10...</td>\n",
              "      <td>[[DevilDriver], [American Head Charge], [Ameri...</td>\n",
              "      <td>[GN1006, GN1013, GN1001, GN1007, GN1013, GN100...</td>\n",
              "      <td>[GN1013, GN1007, GN1012, GN1001, GN1006, GN110...</td>\n",
              "      <td>7</td>\n",
              "      <td>[108340, 105339, 105339, 105339, 101139, 10065...</td>\n",
              "      <td>[105339, 103623, 104141, 100655, 101139, 10834...</td>\n",
              "      <td>9</td>\n",
              "      <td>[GN1000, GN1000, GN1000, GN1000, GN1000, GN100...</td>\n",
              "      <td>[GN1000, GN1100]</td>\n",
              "      <td>2</td>\n",
              "      <td>[DevilDriver, American Head Charge, American H...</td>\n",
              "      <td>[Carcass, Deftones, Dream Theater, Slipknot, D...</td>\n",
              "      <td>9</td>\n",
              "    </tr>\n",
              "    <tr>\n",
              "      <th>115067</th>\n",
              "      <td>106976</td>\n",
              "      <td>[일렉]</td>\n",
              "      <td>빠른 리스너를 위한 따끈따끈한 최신 인기 EDM 모음!</td>\n",
              "      <td>[321330, 216057, 534472, 240306, 331098, 23288...</td>\n",
              "      <td>[[GN1104, GN1101], [GN1104, GN1102, GN1101], [...</td>\n",
              "      <td>[20151208, 20151216, 20150224, 20150820, 20150...</td>\n",
              "      <td>[Crank (Running Away), Make That Booty Bounce,...</td>\n",
              "      <td>[2655210, 2656912, 2305743, 2335671, 2639899, ...</td>\n",
              "      <td>[[839169], [858588], [687821], [775358], [7361...</td>\n",
              "      <td>[Crank (Running Away) (Original Mix), Make Tha...</td>\n",
              "      <td>[[GN1100], [GN1100], [GN1100], [GN1100], [GN11...</td>\n",
              "      <td>[[Komes], [Ctrl Alt Del], [Parachute Youth], [...</td>\n",
              "      <td>[GN1104, GN1101, GN1104, GN1102, GN1101, GN110...</td>\n",
              "      <td>[GN1103, GN1102, GN1101, GN1104]</td>\n",
              "      <td>4</td>\n",
              "      <td>[839169, 858588, 687821, 775358, 736159, 71974...</td>\n",
              "      <td>[839169, 552353, 882562, 719749, 913445, 91459...</td>\n",
              "      <td>13</td>\n",
              "      <td>[GN1100, GN1100, GN1100, GN1100, GN1100, GN110...</td>\n",
              "      <td>[GN1100]</td>\n",
              "      <td>1</td>\n",
              "      <td>[Komes, Ctrl Alt Del, Parachute Youth, Alex Bo...</td>\n",
              "      <td>[Alex Bottino, Ctrl Alt Del, Ste Ingham, Spinn...</td>\n",
              "      <td>13</td>\n",
              "    </tr>\n",
              "    <tr>\n",
              "      <th>115068</th>\n",
              "      <td>11343</td>\n",
              "      <td>[담시, 가족, 눈물, 그리움, 주인공, 나의_이야기, 사랑, 친구]</td>\n",
              "      <td>#1. 눈물이 앞을 가리는 나의_이야기</td>\n",
              "      <td>[50512, 249024, 250608, 371171, 229942, 694943...</td>\n",
              "      <td>[[GN0105, GN0101], [GN0105, GN0101], [GN2502, ...</td>\n",
              "      <td>[20170216, 20190409, 20070608, 20080403, 20080...</td>\n",
              "      <td>[졸업사진, 없더라, Cheerful Sensibility, 2008 연가 SG 워...</td>\n",
              "      <td>[10039116, 10271886, 352436, 375262, 375294, 7...</td>\n",
              "      <td>[[259768], [174997], [226490], [108363], [2428...</td>\n",
              "      <td>[졸업사진, 없더라, 한사람만, 보고 싶어 (SG 워너비 Ver.), 길에서, 눈물...</td>\n",
              "      <td>[[GN0100], [GN0100], [GN2500, GN0600], [GN0100...</td>\n",
              "      <td>[[김진호 (SG워너비)], [가비엔제이], [FTISLAND (FT아일랜드)], ...</td>\n",
              "      <td>[GN0105, GN0101, GN0105, GN0101, GN2502, GN060...</td>\n",
              "      <td>[GN0101, GN0605, GN2501, GN2502, GN0105, GN040...</td>\n",
              "      <td>12</td>\n",
              "      <td>[259768, 174997, 226490, 108363, 242868, 18167...</td>\n",
              "      <td>[859, 3305, 108363, 655051, 750, 181679, 28720...</td>\n",
              "      <td>13</td>\n",
              "      <td>[GN0100, GN0100, GN2500, GN0600, GN0100, GN040...</td>\n",
              "      <td>[GN0600, GN0100, GN0400, GN1500, GN2500]</td>\n",
              "      <td>5</td>\n",
              "      <td>[김진호 (SG워너비), 가비엔제이, FTISLAND (FT아일랜드), SG 워너비...</td>\n",
              "      <td>[SG 워너비, 채동하, 윤종신, 김진호 (SG워너비), 나비, 김창기, 버즈, 가...</td>\n",
              "      <td>13</td>\n",
              "    </tr>\n",
              "    <tr>\n",
              "      <th>115069</th>\n",
              "      <td>131982</td>\n",
              "      <td>[잔잔한, 버스, 퇴근버스, Pop, 풍경, 퇴근길]</td>\n",
              "      <td>퇴근 버스에서 편히 들으면서 하루를 마무리하기에 좋은 POP</td>\n",
              "      <td>[533534, 608114, 343608, 417140, 609009, 30217...</td>\n",
              "      <td>[[GN1107, GN1102, GN1101], [GN1013, GN1008, GN...</td>\n",
              "      <td>[19980116, 20030407, 20060706, 20091016, 20100...</td>\n",
              "      <td>[Moon Safari, Frengers, The Eraser, 트와일라잇 2 : ...</td>\n",
              "      <td>[32683, 35676, 321390, 712652, 993852, 1027351...</td>\n",
              "      <td>[[100783], [109140], [38253], [243434, 403764]...</td>\n",
              "      <td>[Remember, Comforting Sounds, Black Swan, Rosy...</td>\n",
              "      <td>[[GN1100], [GN1000], [GN1000], [GN1500, GN1000...</td>\n",
              "      <td>[[Air], [Mew], [Thom Yorke], [Bon Iver, St. Vi...</td>\n",
              "      <td>[GN1107, GN1102, GN1101, GN1013, GN1008, GN100...</td>\n",
              "      <td>[GN1013, GN1402, GN1203, GN1503, GN1404, GN120...</td>\n",
              "      <td>23</td>\n",
              "      <td>[100783, 109140, 38253, 243434, 403764, 230131...</td>\n",
              "      <td>[1352579, 236167, 792071, 1673865, 1066126, 33...</td>\n",
              "      <td>54</td>\n",
              "      <td>[GN1100, GN1000, GN1000, GN1500, GN1000, GN090...</td>\n",
              "      <td>[GN0900, GN2000, GN1500, GN1000, GN1100, GN140...</td>\n",
              "      <td>8</td>\n",
              "      <td>[Air, Mew, Thom Yorke, Bon Iver, St. Vincent, ...</td>\n",
              "      <td>[Robot Koch, Fujiya &amp; Miyagi, Courtney Hartman...</td>\n",
              "      <td>54</td>\n",
              "    </tr>\n",
              "    <tr>\n",
              "      <th>115070</th>\n",
              "      <td>100389</td>\n",
              "      <td>[노래추천, 팝송추천, 팝송, 팝송모음]</td>\n",
              "      <td>FAVORITE POPSONG!!!</td>\n",
              "      <td>[26008, 456354, 324105, 89871, 135272, 143548,...</td>\n",
              "      <td>[[GN1402, GN1401], [GN1012, GN1002, GN1001], [...</td>\n",
              "      <td>[19961001, 19950404, 19950404, 19951107, 19970...</td>\n",
              "      <td>[A Few Small Repairs, The Bends, The Bends, Ma...</td>\n",
              "      <td>[18590, 19828, 19828, 19989, 19993, 19993, 202...</td>\n",
              "      <td>[[3079], [100781], [100781], [103964], [104369...</td>\n",
              "      <td>[Sunny Came Home, High And Dry, Fake Plastic T...</td>\n",
              "      <td>[[GN1400], [GN1000], [GN1000], [GN1000], [GN10...</td>\n",
              "      <td>[[Shawn Colvin], [Radiohead], [Radiohead], [Qu...</td>\n",
              "      <td>[GN1402, GN1401, GN1012, GN1002, GN1001, GN100...</td>\n",
              "      <td>[GN1013, GN1402, GN2704, GN1504, GN1005, GN150...</td>\n",
              "      <td>36</td>\n",
              "      <td>[3079, 100781, 100781, 103964, 104369, 104369,...</td>\n",
              "      <td>[3079, 185361, 500241, 755729, 170516, 529940,...</td>\n",
              "      <td>101</td>\n",
              "      <td>[GN1400, GN1000, GN1000, GN1000, GN1000, GN100...</td>\n",
              "      <td>[GN0900, GN1500, GN2700, GN1000, GN1100, GN140...</td>\n",
              "      <td>8</td>\n",
              "      <td>[Shawn Colvin, Radiohead, Radiohead, Queen, Oa...</td>\n",
              "      <td>[Nicki Minaj, Kodaline, Cascada, Lady GaGa, Gr...</td>\n",
              "      <td>101</td>\n",
              "    </tr>\n",
              "  </tbody>\n",
              "</table>\n",
              "<p>115071 rows × 24 columns</p>\n",
              "</div>"
            ],
            "text/plain": [
              "            id  ... artist_name_basket_count\n",
              "0        61281  ...                       17\n",
              "1        10532  ...                       21\n",
              "2        76951  ...                       23\n",
              "3       147456  ...                       41\n",
              "4        27616  ...                       37\n",
              "...        ...  ...                      ...\n",
              "115066  120325  ...                        9\n",
              "115067  106976  ...                       13\n",
              "115068   11343  ...                       13\n",
              "115069  131982  ...                       54\n",
              "115070  100389  ...                      101\n",
              "\n",
              "[115071 rows x 24 columns]"
            ]
          },
          "metadata": {
            "tags": []
          },
          "execution_count": 189
        }
      ]
    },
    {
      "cell_type": "code",
      "metadata": {
        "id": "KJRr_ptXhTg5",
        "colab_type": "code",
        "colab": {}
      },
      "source": [
        "meta = plylst_meta[['id','tags','plylst_title','songs','issue_date','song_gn_gnr_basket_flatten','artist_id_basket_flatten','artist_id_basket_count','song_gn_gnr_basket_count']]"
      ],
      "execution_count": null,
      "outputs": []
    },
    {
      "cell_type": "code",
      "metadata": {
        "id": "TJYtHdInibCI",
        "colab_type": "code",
        "colab": {
          "base_uri": "https://localhost:8080/",
          "height": 271
        },
        "outputId": "fb9734c2-e905-49c5-b9ec-7b0ed6e1464f"
      },
      "source": [
        "meta.head(3)"
      ],
      "execution_count": null,
      "outputs": [
        {
          "output_type": "execute_result",
          "data": {
            "text/html": [
              "<div>\n",
              "<style scoped>\n",
              "    .dataframe tbody tr th:only-of-type {\n",
              "        vertical-align: middle;\n",
              "    }\n",
              "\n",
              "    .dataframe tbody tr th {\n",
              "        vertical-align: top;\n",
              "    }\n",
              "\n",
              "    .dataframe thead th {\n",
              "        text-align: right;\n",
              "    }\n",
              "</style>\n",
              "<table border=\"1\" class=\"dataframe\">\n",
              "  <thead>\n",
              "    <tr style=\"text-align: right;\">\n",
              "      <th></th>\n",
              "      <th>id</th>\n",
              "      <th>tags</th>\n",
              "      <th>plylst_title</th>\n",
              "      <th>songs</th>\n",
              "      <th>issue_date</th>\n",
              "      <th>song_gn_gnr_basket_flatten</th>\n",
              "      <th>artist_id_basket_flatten</th>\n",
              "      <th>artist_id_basket_count</th>\n",
              "      <th>song_gn_gnr_basket_count</th>\n",
              "    </tr>\n",
              "  </thead>\n",
              "  <tbody>\n",
              "    <tr>\n",
              "      <th>0</th>\n",
              "      <td>61281</td>\n",
              "      <td>[락]</td>\n",
              "      <td>여행같은 음악</td>\n",
              "      <td>[525514, 129701, 383374, 562083, 297861, 13954...</td>\n",
              "      <td>[20130506, 20130917, 19911021, 20000919, 20050...</td>\n",
              "      <td>[GN1400, GN0900, GN1000, GN1000, GN0900, GN100...</td>\n",
              "      <td>[734201, 536907, 166978, 19035, 170117, 19035,...</td>\n",
              "      <td>17</td>\n",
              "      <td>6</td>\n",
              "    </tr>\n",
              "    <tr>\n",
              "      <th>1</th>\n",
              "      <td>10532</td>\n",
              "      <td>[추억, 회상]</td>\n",
              "      <td>요즘 너 말야</td>\n",
              "      <td>[432406, 675945, 497066, 120377, 389529, 24427...</td>\n",
              "      <td>[20030314, 20061204, 20061204, 20071023, 20080...</td>\n",
              "      <td>[GN0100, GN0600, GN0100, GN0600, GN0100, GN060...</td>\n",
              "      <td>[26, 203912, 203912, 203912, 4263, 1868, 1121,...</td>\n",
              "      <td>21</td>\n",
              "      <td>11</td>\n",
              "    </tr>\n",
              "    <tr>\n",
              "      <th>2</th>\n",
              "      <td>76951</td>\n",
              "      <td>[까페, 잔잔한]</td>\n",
              "      <td>편하게, 잔잔하게 들을 수 있는 곡.-</td>\n",
              "      <td>[83116, 276692, 166267, 186301, 354465, 256598...</td>\n",
              "      <td>[20081029, 20081029, 20140818, 20141126, 20141...</td>\n",
              "      <td>[GN0400, GN0400, GN0500, GN0600, GN0400, GN010...</td>\n",
              "      <td>[262975, 262975, 782381, 165235, 732108, 86902...</td>\n",
              "      <td>23</td>\n",
              "      <td>8</td>\n",
              "    </tr>\n",
              "  </tbody>\n",
              "</table>\n",
              "</div>"
            ],
            "text/plain": [
              "      id       tags  ... artist_id_basket_count song_gn_gnr_basket_count\n",
              "0  61281        [락]  ...                     17                        6\n",
              "1  10532   [추억, 회상]  ...                     21                       11\n",
              "2  76951  [까페, 잔잔한]  ...                     23                        8\n",
              "\n",
              "[3 rows x 9 columns]"
            ]
          },
          "metadata": {
            "tags": []
          },
          "execution_count": 191
        }
      ]
    },
    {
      "cell_type": "code",
      "metadata": {
        "id": "1WrHDvXguV6_",
        "colab_type": "code",
        "colab": {}
      },
      "source": [
        "plylst_song_map = train[['id', 'songs']]\n",
        "\n",
        "# unnest songs\n",
        "plylst_song_map_unnest = np.dstack(\n",
        "    (\n",
        "        np.repeat(plylst_song_map.id.values, list(map(len, plylst_song_map.songs))), \n",
        "        np.concatenate(plylst_song_map.songs.values)\n",
        "    )\n",
        ")\n",
        "\n",
        "# unnested 데이터프레임 생성 : plylst_song_map\n",
        "plylst_song_map = pd.DataFrame(data = plylst_song_map_unnest[0], columns = plylst_song_map.columns)\n",
        "plylst_song_map['id'] = plylst_song_map['id'].astype(str)\n",
        "plylst_song_map['songs'] = plylst_song_map['songs'].astype(str)\n",
        "\n",
        "# unnest 객체 제거\n",
        "del plylst_song_map_unnest\n",
        "\n",
        "value = plylst_song_map['songs'].value_counts() > 5\n",
        "\n",
        "df = plylst_song_map['songs'].value_counts().rename_axis('unique_values').to_frame('counts')\n",
        "df = df.reset_index() ; df\n",
        "over_5 = df[df['counts']>=5]\n",
        "\n",
        "requred_song = over_5['unique_values'].tolist()\n",
        "requred_song = set(list(map(int, requred_song)))"
      ],
      "execution_count": null,
      "outputs": []
    },
    {
      "cell_type": "code",
      "metadata": {
        "id": "vV0PimFbpK8Y",
        "colab_type": "code",
        "colab": {
          "base_uri": "https://localhost:8080/",
          "height": 122
        },
        "outputId": "2455c4cf-1c04-457f-f97c-b54e149bfa59"
      },
      "source": [
        "df = pd.DataFrame(columns=['over5_songs'])\n",
        "meta = pd.concat([meta,df])\n",
        "\n",
        "for i in range(meta.shape[0]):     \n",
        "    result = set(meta['songs'][i]) & requred_song\n",
        "    meta['over5_songs'][i] = list(result)"
      ],
      "execution_count": null,
      "outputs": [
        {
          "output_type": "stream",
          "text": [
            "/usr/local/lib/python3.6/dist-packages/ipykernel_launcher.py:6: SettingWithCopyWarning: \n",
            "A value is trying to be set on a copy of a slice from a DataFrame\n",
            "\n",
            "See the caveats in the documentation: https://pandas.pydata.org/pandas-docs/stable/user_guide/indexing.html#returning-a-view-versus-a-copy\n",
            "  \n"
          ],
          "name": "stderr"
        }
      ]
    },
    {
      "cell_type": "code",
      "metadata": {
        "id": "pzOylM3QqPSv",
        "colab_type": "code",
        "colab": {
          "base_uri": "https://localhost:8080/",
          "height": 717
        },
        "outputId": "2d19389d-df57-4929-c739-664ddab5f258"
      },
      "source": [
        "del meta['songs']\n",
        "meta.rename(columns = {'over5_songs' : 'songs'}, inplace = True)\n",
        "meta['updt_date'] = train['updt_date']\n",
        "meta.head()"
      ],
      "execution_count": null,
      "outputs": [
        {
          "output_type": "execute_result",
          "data": {
            "text/html": [
              "<div>\n",
              "<style scoped>\n",
              "    .dataframe tbody tr th:only-of-type {\n",
              "        vertical-align: middle;\n",
              "    }\n",
              "\n",
              "    .dataframe tbody tr th {\n",
              "        vertical-align: top;\n",
              "    }\n",
              "\n",
              "    .dataframe thead th {\n",
              "        text-align: right;\n",
              "    }\n",
              "</style>\n",
              "<table border=\"1\" class=\"dataframe\">\n",
              "  <thead>\n",
              "    <tr style=\"text-align: right;\">\n",
              "      <th></th>\n",
              "      <th>id</th>\n",
              "      <th>tags</th>\n",
              "      <th>plylst_title</th>\n",
              "      <th>issue_date</th>\n",
              "      <th>song_gn_gnr_basket_flatten</th>\n",
              "      <th>artist_id_basket_flatten</th>\n",
              "      <th>artist_id_basket_count</th>\n",
              "      <th>song_gn_gnr_basket_count</th>\n",
              "      <th>songs</th>\n",
              "      <th>updt_date</th>\n",
              "    </tr>\n",
              "  </thead>\n",
              "  <tbody>\n",
              "    <tr>\n",
              "      <th>0</th>\n",
              "      <td>61281.0</td>\n",
              "      <td>[락]</td>\n",
              "      <td>여행같은 음악</td>\n",
              "      <td>[20130506, 20130917, 19911021, 20000919, 20050...</td>\n",
              "      <td>[GN1400, GN0900, GN1000, GN1000, GN0900, GN100...</td>\n",
              "      <td>[734201, 536907, 166978, 19035, 170117, 19035,...</td>\n",
              "      <td>17.0</td>\n",
              "      <td>6.0</td>\n",
              "      <td>[562083, 297861, 72552, 525514, 531057, 139541...</td>\n",
              "      <td>2013-12-19 18:36:19.000</td>\n",
              "    </tr>\n",
              "    <tr>\n",
              "      <th>1</th>\n",
              "      <td>10532.0</td>\n",
              "      <td>[추억, 회상]</td>\n",
              "      <td>요즘 너 말야</td>\n",
              "      <td>[20030314, 20061204, 20061204, 20071023, 20080...</td>\n",
              "      <td>[GN0100, GN0600, GN0100, GN0600, GN0100, GN060...</td>\n",
              "      <td>[26, 203912, 203912, 203912, 4263, 1868, 1121,...</td>\n",
              "      <td>21.0</td>\n",
              "      <td>11.0</td>\n",
              "      <td>[414721, 461062, 442765, 532114, 6546, 645653,...</td>\n",
              "      <td>2014-12-02 16:19:42.000</td>\n",
              "    </tr>\n",
              "    <tr>\n",
              "      <th>2</th>\n",
              "      <td>76951.0</td>\n",
              "      <td>[까페, 잔잔한]</td>\n",
              "      <td>편하게, 잔잔하게 들을 수 있는 곡.-</td>\n",
              "      <td>[20081029, 20081029, 20140818, 20141126, 20141...</td>\n",
              "      <td>[GN0400, GN0400, GN0500, GN0600, GN0400, GN010...</td>\n",
              "      <td>[262975, 262975, 782381, 165235, 732108, 86902...</td>\n",
              "      <td>23.0</td>\n",
              "      <td>8.0</td>\n",
              "      <td>[348801, 556426, 32017, 454550, 354465, 203558...</td>\n",
              "      <td>2017-08-28 07:09:34.000</td>\n",
              "    </tr>\n",
              "    <tr>\n",
              "      <th>3</th>\n",
              "      <td>147456.0</td>\n",
              "      <td>[연말, 눈오는날, 캐럴, 분위기, 따듯한, 크리스마스캐럴, 겨울노래, 크리스마스,...</td>\n",
              "      <td>크리스마스 분위기에 흠뻑 취하고 싶을때</td>\n",
              "      <td>[20191115, 19981201, 20061124, 20101102, 20101...</td>\n",
              "      <td>[GN1500, GN0900, GN2200, GN0100, GN0900, GN130...</td>\n",
              "      <td>[232538, 838137, 925, 220998, 2274, 2274, 2274...</td>\n",
              "      <td>41.0</td>\n",
              "      <td>11.0</td>\n",
              "      <td>[453762, 273672, 521739, 556301, 334095, 54273...</td>\n",
              "      <td>2019-12-05 15:15:18.000</td>\n",
              "    </tr>\n",
              "    <tr>\n",
              "      <th>4</th>\n",
              "      <td>27616.0</td>\n",
              "      <td>[댄스]</td>\n",
              "      <td>추억의 노래 ㅋ</td>\n",
              "      <td>[20010619, 19970520, 19970514, 19940900, 20020...</td>\n",
              "      <td>[GN0100, GN0100, GN2500, GN0200, GN0200, GN250...</td>\n",
              "      <td>[10575, 100045, 100052, 1130, 2165, 100005, 10...</td>\n",
              "      <td>37.0</td>\n",
              "      <td>6.0</td>\n",
              "      <td>[503552, 617473, 553610, 5130, 224139, 569867,...</td>\n",
              "      <td>2011-10-25 13:54:56.000</td>\n",
              "    </tr>\n",
              "  </tbody>\n",
              "</table>\n",
              "</div>"
            ],
            "text/plain": [
              "         id  ...                updt_date\n",
              "0   61281.0  ...  2013-12-19 18:36:19.000\n",
              "1   10532.0  ...  2014-12-02 16:19:42.000\n",
              "2   76951.0  ...  2017-08-28 07:09:34.000\n",
              "3  147456.0  ...  2019-12-05 15:15:18.000\n",
              "4   27616.0  ...  2011-10-25 13:54:56.000\n",
              "\n",
              "[5 rows x 10 columns]"
            ]
          },
          "metadata": {
            "tags": []
          },
          "execution_count": 196
        }
      ]
    },
    {
      "cell_type": "code",
      "metadata": {
        "id": "XdB3EemnxDcv",
        "colab_type": "code",
        "colab": {}
      },
      "source": [
        "## 저장\n",
        "meta.to_json('meta.json', orient='table')"
      ],
      "execution_count": null,
      "outputs": []
    },
    {
      "cell_type": "code",
      "metadata": {
        "id": "iymvPDjFBsmf",
        "colab_type": "code",
        "colab": {}
      },
      "source": [
        "meta = pd.read_json('meta.json',orient='table')"
      ],
      "execution_count": 570,
      "outputs": []
    },
    {
      "cell_type": "code",
      "metadata": {
        "id": "-eN1Xxe3rrRV",
        "colab_type": "code",
        "colab": {}
      },
      "source": [
        "from sklearn.model_selection import train_test_split\n",
        "\n",
        "train, test = train_test_split(meta, test_size=0.2, shuffle=True, random_state=1003)"
      ],
      "execution_count": 571,
      "outputs": []
    },
    {
      "cell_type": "markdown",
      "metadata": {
        "id": "vwAlqN6anu1x",
        "colab_type": "text"
      },
      "source": [
        "# Util function"
      ]
    },
    {
      "cell_type": "code",
      "metadata": {
        "id": "Rj3Kvk03x_gw",
        "colab_type": "code",
        "colab": {}
      },
      "source": [
        "import io\n",
        "import os\n",
        "import json\n",
        "import distutils.dir_util\n",
        "from collections import Counter\n",
        "\n",
        "import numpy as np\n",
        "\n",
        "def write_json(data, fname):\n",
        "    def _conv(o):\n",
        "        if isinstance(o, np.int64) or isinstance(o, np.int32):\n",
        "            return int(o)\n",
        "        raise TypeError\n",
        "\n",
        "    parent = os.path.dirname(fname)\n",
        "    distutils.dir_util.mkpath(\"./arena_data/\" + parent)\n",
        "    with io.open(\"./arena_data/\" + fname, \"w\", encoding=\"utf8\") as f:\n",
        "        json_str = json.dumps(data, ensure_ascii=False, default=_conv)\n",
        "        f.write(json_str)\n",
        "\n",
        "\n",
        "def load_json(fname):\n",
        "    with open(fname, encoding='utf8') as f:\n",
        "        json_obj = json.load(f)\n",
        "\n",
        "    return json_obj\n",
        "\n",
        "\n",
        "def debug_json(r):\n",
        "    print(json.dumps(r, ensure_ascii=False, indent=4))"
      ],
      "execution_count": 572,
      "outputs": []
    },
    {
      "cell_type": "code",
      "metadata": {
        "id": "_oHk2fQzyzl-",
        "colab_type": "code",
        "colab": {}
      },
      "source": [
        "class CustomEvaluator:\n",
        "    def _idcg(self, l):\n",
        "        return sum((1.0 / np.log(i + 2) for i in range(l)))\n",
        "\n",
        "    def __init__(self):\n",
        "        self._idcgs = [self._idcg(i) for i in range(101)]\n",
        "\n",
        "    def _ndcg(self, gt, rec):\n",
        "        dcg = 0.0\n",
        "        for i, r in enumerate(rec):\n",
        "            if r in gt:\n",
        "                dcg += 1.0 / np.log(i + 2)\n",
        "\n",
        "        return dcg / self._idcgs[len(gt)] # self._idcgs[len(gt)] = 0\n",
        "\n",
        "    def _eval(self, gt_fname, rec_fname):\n",
        "        gt_playlists = load_json(gt_fname)\n",
        "        gt_dict = {g[\"id\"]: g for g in gt_playlists} # 정답 {플레이리스트 아이디 : 플레이리스트 정보 쭉}\n",
        "        rec_playlists = load_json(rec_fname)\n",
        "\n",
        "        gt_ids = set([g[\"id\"] for g in gt_playlists]) # 정답 플레이리스트 아이디\n",
        "        rec_ids = set([r[\"id\"] for r in rec_playlists]) # 답안 플레이리스트 아이디 \n",
        "\n",
        "        '''\n",
        "        if gt_ids != rec_ids:\n",
        "            print(f'gt_ids:{len(gt_ids)}')\n",
        "            print(f'rec_ids:{len(rec_ids)}')\n",
        "            raise Exception(\"결과의 플레이리스트 수가 올바르지 않습니다.\")\n",
        "\n",
        "        rec_song_counts = [len(p[\"songs\"]) for p in rec_playlists] #답안 플레이리스트 song 개수 집합으로. (100 아닌거 있나 걸러내려고)\n",
        "        rec_tag_counts = [len(p[\"tags\"]) for p in rec_playlists]\n",
        "\n",
        "        if set(rec_song_counts) != set([100]):\n",
        "            print(f'rec_song_counts={set(rec_song_counts)}')\n",
        "            raise Exception(\"추천 곡 결과의 개수가 맞지 않습니다.\")\n",
        "\n",
        "        if set(rec_tag_counts) != set([10]):\n",
        "            raise Exception(\"추천 태그 결과의 개수가 맞지 않습니다.\")\n",
        "\n",
        "        rec_unique_song_counts = [len(set(p[\"songs\"])) for p in rec_playlists]\n",
        "        rec_unique_tag_counts = [len(set(p[\"tags\"])) for p in rec_playlists]\n",
        "\n",
        "        if set(rec_unique_song_counts) != set([100]):\n",
        "            print(f'rec_unique_song_counts={set(rec_unique_song_counts)}')\n",
        "            raise Exception(\"한 플레이리스트에 중복된 곡 추천은 허용되지 않습니다.\")\n",
        "\n",
        "        if set(rec_unique_tag_counts) != set([10]):\n",
        "            print(f'rec_unique_tag_counts={set(rec_unique_tag_counts)}')\n",
        "            raise Exception(\"한 플레이리스트에 중복된 태그 추천은 허용되지 않습니다.\")\n",
        "        '''\n",
        "\n",
        "        music_ndcg = 0.0\n",
        "        tag_ndcg = 0.0\n",
        "\n",
        "        for rec in rec_playlists:\n",
        "            gt = gt_dict[rec[\"id\"]]\n",
        "            music_ndcg += self._ndcg(gt[\"songs\"], rec[\"songs\"][:100])\n",
        "            tag_ndcg += self._ndcg(gt[\"tags\"], rec[\"tags\"][:10])\n",
        "\n",
        "        music_ndcg = music_ndcg / len(rec_playlists)\n",
        "        tag_ndcg = tag_ndcg / len(rec_playlists)\n",
        "        score = music_ndcg * 0.85 + tag_ndcg * 0.15\n",
        "\n",
        "        return music_ndcg, tag_ndcg, score\n",
        "\n",
        "    def evaluate(self, gt_fname, rec_fname): # gt > 정답, rec > 제출 답안\n",
        "        try:\n",
        "            music_ndcg, tag_ndcg, score = self._eval(gt_fname, rec_fname)\n",
        "            print(f\"Music nDCG: {music_ndcg:.6}\")\n",
        "            print(f\"Tag nDCG: {tag_ndcg:.6}\")\n",
        "            print(f\"Score: {score:.6}\")\n",
        "        except Exception as e:\n",
        "            print(e)"
      ],
      "execution_count": 573,
      "outputs": []
    },
    {
      "cell_type": "markdown",
      "metadata": {
        "id": "QtPL_gW9n2KE",
        "colab_type": "text"
      },
      "source": [
        "# Make Target(score)"
      ]
    },
    {
      "cell_type": "code",
      "metadata": {
        "id": "HzMWxQl1zyN_",
        "colab_type": "code",
        "colab": {
          "base_uri": "https://localhost:8080/",
          "height": 971
        },
        "outputId": "4b6154ec-1c13-42a8-e9c6-fdfa367896ea"
      },
      "source": [
        "train['istrain'] = 1\n",
        "test['istrain'] = 0\n",
        "\n",
        "n_train = len(train)\n",
        "n_test = len(test)\n",
        "\n",
        "# train + test\n",
        "plylst = pd.concat([train,test], ignore_index=True)\n",
        "plylst[\"nid\"] = range(n_train+n_test)\n"
      ],
      "execution_count": 574,
      "outputs": [
        {
          "output_type": "stream",
          "text": [
            "/usr/local/lib/python3.6/dist-packages/ipykernel_launcher.py:1: SettingWithCopyWarning: \n",
            "A value is trying to be set on a copy of a slice from a DataFrame.\n",
            "Try using .loc[row_indexer,col_indexer] = value instead\n",
            "\n",
            "See the caveats in the documentation: https://pandas.pydata.org/pandas-docs/stable/user_guide/indexing.html#returning-a-view-versus-a-copy\n",
            "  \"\"\"Entry point for launching an IPython kernel.\n",
            "/usr/local/lib/python3.6/dist-packages/ipykernel_launcher.py:2: SettingWithCopyWarning: \n",
            "A value is trying to be set on a copy of a slice from a DataFrame.\n",
            "Try using .loc[row_indexer,col_indexer] = value instead\n",
            "\n",
            "See the caveats in the documentation: https://pandas.pydata.org/pandas-docs/stable/user_guide/indexing.html#returning-a-view-versus-a-copy\n",
            "  \n"
          ],
          "name": "stderr"
        },
        {
          "output_type": "execute_result",
          "data": {
            "text/html": [
              "<div>\n",
              "<style scoped>\n",
              "    .dataframe tbody tr th:only-of-type {\n",
              "        vertical-align: middle;\n",
              "    }\n",
              "\n",
              "    .dataframe tbody tr th {\n",
              "        vertical-align: top;\n",
              "    }\n",
              "\n",
              "    .dataframe thead th {\n",
              "        text-align: right;\n",
              "    }\n",
              "</style>\n",
              "<table border=\"1\" class=\"dataframe\">\n",
              "  <thead>\n",
              "    <tr style=\"text-align: right;\">\n",
              "      <th></th>\n",
              "      <th>id</th>\n",
              "      <th>tags</th>\n",
              "      <th>plylst_title</th>\n",
              "      <th>issue_date</th>\n",
              "      <th>song_gn_gnr_basket_flatten</th>\n",
              "      <th>artist_id_basket_flatten</th>\n",
              "      <th>artist_id_basket_count</th>\n",
              "      <th>song_gn_gnr_basket_count</th>\n",
              "      <th>songs</th>\n",
              "      <th>updt_date</th>\n",
              "      <th>istrain</th>\n",
              "      <th>nid</th>\n",
              "    </tr>\n",
              "  </thead>\n",
              "  <tbody>\n",
              "    <tr>\n",
              "      <th>0</th>\n",
              "      <td>104383.0</td>\n",
              "      <td>[설레임, 설렘, 사랑]</td>\n",
              "      <td>설레임 한가득 노래모음</td>\n",
              "      <td>[20180312, 20180720, 20020719, 20020801, 20000...</td>\n",
              "      <td>[GN2500, GN0100, GN0300, GN0100, GN0100, GN060...</td>\n",
              "      <td>[490981, 239366, 3305, 1582, 100391, 11538, 27...</td>\n",
              "      <td>55.0</td>\n",
              "      <td>10.0</td>\n",
              "      <td>[317056, 464257, 656512, 610179, 348165, 58676...</td>\n",
              "      <td>2020-02-02 16:15:59.000</td>\n",
              "      <td>1</td>\n",
              "      <td>0</td>\n",
              "    </tr>\n",
              "    <tr>\n",
              "      <th>1</th>\n",
              "      <td>28024.0</td>\n",
              "      <td>[우울, 새벽, 밤, 고독]</td>\n",
              "      <td>멜랑꼴리한 밤에 고독을 짓씹으며</td>\n",
              "      <td>[20080612, 20081111, 20081111, 20120619, 20120...</td>\n",
              "      <td>[GN0100, GN0900, GN0900, GN1000, GN1000, GN030...</td>\n",
              "      <td>[3305, 258383, 258383, 106732, 425140, 108356,...</td>\n",
              "      <td>23.0</td>\n",
              "      <td>11.0</td>\n",
              "      <td>[536838, 260107, 164235, 449683, 329113, 14363...</td>\n",
              "      <td>2018-01-23 20:21:27.000</td>\n",
              "      <td>1</td>\n",
              "      <td>1</td>\n",
              "    </tr>\n",
              "    <tr>\n",
              "      <th>2</th>\n",
              "      <td>120331.0</td>\n",
              "      <td>[커피, 잔잔한, 카페, 발라드]</td>\n",
              "      <td>뜨거운 커피 한잔과 함께 듣는 노래</td>\n",
              "      <td>[20180330, 20150701, 20150701, 20160510, 20161...</td>\n",
              "      <td>[GN0500, GN0100, GN0500, GN0600, GN0500, GN060...</td>\n",
              "      <td>[681456, 242988, 242988, 770167, 103486, 24298...</td>\n",
              "      <td>16.0</td>\n",
              "      <td>7.0</td>\n",
              "      <td>[106017, 327522, 338461, 33829, 548005, 233641...</td>\n",
              "      <td>2018-04-18 17:39:48.000</td>\n",
              "      <td>1</td>\n",
              "      <td>2</td>\n",
              "    </tr>\n",
              "    <tr>\n",
              "      <th>3</th>\n",
              "      <td>109188.0</td>\n",
              "      <td>[여름, 기분전환]</td>\n",
              "      <td>무더운날 청량감 넘치는 연주곡들</td>\n",
              "      <td>[20120426, 20120504, 20130107, 20130429, 20140...</td>\n",
              "      <td>[GN1800, GN1800, GN1800, GN1800, GN1800, GN180...</td>\n",
              "      <td>[623915, 618273, 713816, 713738, 713743, 71373...</td>\n",
              "      <td>8.0</td>\n",
              "      <td>1.0</td>\n",
              "      <td>[497090, 167683, 298053, 253320, 278824, 32945...</td>\n",
              "      <td>2015-09-03 16:54:26.000</td>\n",
              "      <td>1</td>\n",
              "      <td>3</td>\n",
              "    </tr>\n",
              "    <tr>\n",
              "      <th>4</th>\n",
              "      <td>65498.0</td>\n",
              "      <td>[매장음악, 까페]</td>\n",
              "      <td>아침을 열어주는 분위기 있는 카페 매장 음악</td>\n",
              "      <td>[20150707, 20150707, 20150707, 20150707, 20150...</td>\n",
              "      <td>[GN1600, GN1600, GN1600, GN1600, GN1600, GN160...</td>\n",
              "      <td>[873816, 873816, 873816, 873816, 873334, 87333...</td>\n",
              "      <td>2.0</td>\n",
              "      <td>1.0</td>\n",
              "      <td>[436992, 577664, 72194, 440965, 535046, 379655...</td>\n",
              "      <td>2015-09-03 17:01:15.000</td>\n",
              "      <td>1</td>\n",
              "      <td>4</td>\n",
              "    </tr>\n",
              "  </tbody>\n",
              "</table>\n",
              "</div>"
            ],
            "text/plain": [
              "         id                tags  ... istrain nid\n",
              "0  104383.0       [설레임, 설렘, 사랑]  ...       1   0\n",
              "1   28024.0     [우울, 새벽, 밤, 고독]  ...       1   1\n",
              "2  120331.0  [커피, 잔잔한, 카페, 발라드]  ...       1   2\n",
              "3  109188.0          [여름, 기분전환]  ...       1   3\n",
              "4   65498.0          [매장음악, 까페]  ...       1   4\n",
              "\n",
              "[5 rows x 12 columns]"
            ]
          },
          "metadata": {
            "tags": []
          },
          "execution_count": 574
        }
      ]
    },
    {
      "cell_type": "code",
      "metadata": {
        "id": "I8YEJ9SE0Dcj",
        "colab_type": "code",
        "colab": {}
      },
      "source": [
        "# id <-> nid\n",
        "plylst_id_nid = dict(zip(plylst[\"id\"],plylst[\"nid\"]))\n",
        "plylst_nid_id = dict(zip(plylst[\"nid\"],plylst[\"id\"]))"
      ],
      "execution_count": 575,
      "outputs": []
    },
    {
      "cell_type": "code",
      "metadata": {
        "id": "IL1MtpKc291b",
        "colab_type": "code",
        "colab": {
          "base_uri": "https://localhost:8080/",
          "height": 375
        },
        "outputId": "0e0b8a11-4f16-4a4b-e32e-4557dc33de69"
      },
      "source": [
        "plylst_tag = plylst['tags'][0:3]\n",
        "for tgs in plylst_tag:\n",
        "  print(tgs)\n",
        "  for tg in tgs:\n",
        "    print(tg)\n",
        "\n",
        "tag_counter = Counter([tg for tgs in plylst_tag for tg in tgs])\n",
        "\n",
        "tag_dict = {x:tag_counter[x] for x in tag_counter}"
      ],
      "execution_count": 576,
      "outputs": [
        {
          "output_type": "stream",
          "text": [
            "['설레임', '설렘', '사랑']\n",
            "설레임\n",
            "설렘\n",
            "사랑\n",
            "['우울', '새벽', '밤', '고독']\n",
            "우울\n",
            "새벽\n",
            "밤\n",
            "고독\n",
            "['커피', '잔잔한', '카페', '발라드']\n",
            "커피\n",
            "잔잔한\n",
            "카페\n",
            "발라드\n",
            "Counter({'설레임': 1, '설렘': 1, '사랑': 1, '우울': 1, '새벽': 1, '밤': 1, '고독': 1, '커피': 1, '잔잔한': 1, '카페': 1, '발라드': 1})\n",
            "*******************\n",
            "{'설레임': 1, '설렘': 1, '사랑': 1, '우울': 1, '새벽': 1, '밤': 1, '고독': 1, '커피': 1, '잔잔한': 1, '카페': 1, '발라드': 1}\n"
          ],
          "name": "stdout"
        }
      ]
    },
    {
      "cell_type": "code",
      "metadata": {
        "id": "TRUyruD90Nk2",
        "colab_type": "code",
        "colab": {}
      },
      "source": [
        "plylst_tag = plylst['tags']\n",
        "tag_counter = Counter([tg for tgs in plylst_tag for tg in tgs]) # counter > 데이터 개수 셀 때 유용\n",
        "tag_dict = {x:tag_counter[x] for x in tag_counter}\n",
        "\n",
        "tag_id_tid = dict()\n",
        "tag_tid_id = dict()\n",
        "\n",
        "for i,t in enumerate(tag_dict):\n",
        "  tag_id_tid[t] = i\n",
        "  tag_tid_id[i] = t\n",
        "\n",
        "n_tags = len(tag_dict)"
      ],
      "execution_count": 577,
      "outputs": []
    },
    {
      "cell_type": "code",
      "metadata": {
        "id": "_BAj_3g97V3n",
        "colab_type": "code",
        "colab": {}
      },
      "source": [
        "plylst_song = plylst['songs']\n",
        "song_counter = Counter([sg for sgs in plylst_song for sg in sgs])\n",
        "song_dict = {x: song_counter[x] for x in song_counter}\n",
        "\n",
        "song_id_sid = dict()\n",
        "song_sid_id = dict()\n",
        "\n",
        "for i, t in enumerate(song_dict):\n",
        "  song_id_sid[t] = i\n",
        "  song_sid_id[i] = t\n",
        "\n",
        "n_songs = len(song_dict)"
      ],
      "execution_count": 578,
      "outputs": []
    },
    {
      "cell_type": "code",
      "metadata": {
        "id": "NYDDH4698As8",
        "colab_type": "code",
        "colab": {}
      },
      "source": [
        "# plylst의 songs와 tags를 새로운 id로 변환하여 데이터프레임에 추가\n",
        "plylst['songs_id'] = plylst['songs'].map(lambda x: [song_id_sid.get(s) for s in x if song_id_sid.get(s) != None]) # get ; key로 value 얻기\n",
        "plylst['tags_id'] = plylst['tags'].map(lambda x: [tag_id_tid.get(t) for t in x if tag_id_tid.get(t) != None])"
      ],
      "execution_count": 579,
      "outputs": []
    },
    {
      "cell_type": "code",
      "metadata": {
        "id": "y3sw49o09bAi",
        "colab_type": "code",
        "colab": {
          "base_uri": "https://localhost:8080/",
          "height": 270
        },
        "outputId": "50761414-8da1-4c78-8939-cfc8f5a3bc80"
      },
      "source": [
        "plylst_use = plylst[['id','istrain','nid','updt_date','songs_id','tags_id','plylst_title','song_gn_gnr_basket_flatten','artist_id_basket_flatten','artist_id_basket_count','song_gn_gnr_basket_count','tags']]\n",
        "plylst_use.loc[:,'num_songs'] = plylst_use['songs_id'].map(len)\n",
        "plylst_use.loc[:,'num_tags'] = plylst_use['tags_id'].map(len)\n",
        "plylst_use = plylst_use.set_index('nid')"
      ],
      "execution_count": 582,
      "outputs": [
        {
          "output_type": "stream",
          "text": [
            "/usr/local/lib/python3.6/dist-packages/pandas/core/indexing.py:845: SettingWithCopyWarning: \n",
            "A value is trying to be set on a copy of a slice from a DataFrame.\n",
            "Try using .loc[row_indexer,col_indexer] = value instead\n",
            "\n",
            "See the caveats in the documentation: https://pandas.pydata.org/pandas-docs/stable/user_guide/indexing.html#returning-a-view-versus-a-copy\n",
            "  self.obj[key] = _infer_fill_value(value)\n",
            "/usr/local/lib/python3.6/dist-packages/pandas/core/indexing.py:966: SettingWithCopyWarning: \n",
            "A value is trying to be set on a copy of a slice from a DataFrame.\n",
            "Try using .loc[row_indexer,col_indexer] = value instead\n",
            "\n",
            "See the caveats in the documentation: https://pandas.pydata.org/pandas-docs/stable/user_guide/indexing.html#returning-a-view-versus-a-copy\n",
            "  self.obj[item] = s\n"
          ],
          "name": "stderr"
        }
      ]
    },
    {
      "cell_type": "code",
      "metadata": {
        "id": "MrgpAZh3-tCv",
        "colab_type": "code",
        "colab": {}
      },
      "source": [
        "plylst_train = plylst_use.iloc[:n_train,:]\n",
        "plylst_test = plylst_use.iloc[n_train:,:]"
      ],
      "execution_count": 584,
      "outputs": []
    },
    {
      "cell_type": "code",
      "metadata": {
        "id": "u4iPoNWT-8GA",
        "colab_type": "code",
        "colab": {}
      },
      "source": [
        "np.random.seed(33)\n",
        "n_sample = 23015\n",
        "\n",
        "test = plylst_test.iloc[np.random.choice(range(n_test), size=n_sample,replace=False),:]"
      ],
      "execution_count": 586,
      "outputs": []
    },
    {
      "cell_type": "code",
      "metadata": {
        "id": "m1as7gMRotMr",
        "colab_type": "code",
        "colab": {
          "base_uri": "https://localhost:8080/",
          "height": 58
        },
        "outputId": "22ac9b1d-05c1-4c96-e55e-ba9bb367488a"
      },
      "source": [
        "import math\n",
        "from tqdm import tqdm\n",
        "\n",
        "def rating(number):\n",
        "  return [-math.log(x+1,2) +8.66 for x in range(number)]\n",
        "\n",
        "# csr_matrix > (행,열)로 데이터 위치 표시\n",
        "row = np.repeat(range(n_train),plylst_train['num_songs'])\n",
        "col = [song for songs in plylst_train['songs_id'] for song in songs]\n",
        "dat_series = plylst_train['num_songs'].map(rating)\n",
        "dat = [y for x in dat_series for y in x]\n",
        "train_songs_A = spr.csr_matrix((dat, (row, col)), shape=(n_train, n_songs))\n",
        "\n",
        "row = np.repeat(range(n_train), plylst_train['num_tags'])\n",
        "col = [tag for tags in plylst_train['tags_id'] for tag in tags]\n",
        "dat_series = plylst_train['num_tags'].map(rating)\n",
        "dat = [y for x in dat_series for y in x]\n",
        "train_tags_A = spr.csr_matrix((dat, (row, col)), shape=(n_train, n_tags))\n",
        "\n",
        "train_tags_A # 태그는 그대로"
      ],
      "execution_count": 589,
      "outputs": [
        {
          "output_type": "execute_result",
          "data": {
            "text/plain": [
              "<92056x29160 sparse matrix of type '<class 'numpy.float64'>'\n",
              "\twith 380817 stored elements in Compressed Sparse Row format>"
            ]
          },
          "metadata": {
            "tags": []
          },
          "execution_count": 589
        }
      ]
    },
    {
      "cell_type": "code",
      "metadata": {
        "id": "cZ9iX95rwGJh",
        "colab_type": "code",
        "colab": {
          "base_uri": "https://localhost:8080/",
          "height": 58
        },
        "outputId": "b38c3ac3-2e43-468b-89bc-007a192ca774"
      },
      "source": [
        "train_songs_A  # 14만 곡으로 줄었음"
      ],
      "execution_count": 590,
      "outputs": [
        {
          "output_type": "execute_result",
          "data": {
            "text/plain": [
              "<92056x144674 sparse matrix of type '<class 'numpy.float64'>'\n",
              "\twith 3626357 stored elements in Compressed Sparse Row format>"
            ]
          },
          "metadata": {
            "tags": []
          },
          "execution_count": 590
        }
      ]
    },
    {
      "cell_type": "code",
      "metadata": {
        "id": "-4SulqAxgKyL",
        "colab_type": "code",
        "colab": {}
      },
      "source": [
        "target = train_songs_A.T"
      ],
      "execution_count": 591,
      "outputs": []
    },
    {
      "cell_type": "markdown",
      "metadata": {
        "id": "rmpzsJ1cPRrm",
        "colab_type": "text"
      },
      "source": [
        "# Featrue engineering\n",
        "input이 spare 하지 않다 -> 구지 FM을 쓸 필요가 없다.  \n",
        "XGBoost나 다른 regression 고려"
      ]
    },
    {
      "cell_type": "code",
      "metadata": {
        "id": "ynGGFVisPOLe",
        "colab_type": "code",
        "colab": {}
      },
      "source": [
        "train = plylst_train"
      ],
      "execution_count": 592,
      "outputs": []
    },
    {
      "cell_type": "markdown",
      "metadata": {
        "id": "7Tde-5wGRYHt",
        "colab_type": "text"
      },
      "source": [
        "### Season \n",
        "봄, 여름, 가을, 겨울 "
      ]
    },
    {
      "cell_type": "code",
      "metadata": {
        "id": "lBfRz5ghPkuK",
        "colab_type": "code",
        "colab": {
          "base_uri": "https://localhost:8080/",
          "height": 143
        },
        "outputId": "093b96bc-c7b4-44c4-c467-e2edee79aa87"
      },
      "source": [
        "train['updt_date'] = pd.to_datetime(train['updt_date'], format='%Y-%m-%d %H:%M:%S', errors='raise')"
      ],
      "execution_count": 593,
      "outputs": [
        {
          "output_type": "stream",
          "text": [
            "/usr/local/lib/python3.6/dist-packages/ipykernel_launcher.py:1: SettingWithCopyWarning: \n",
            "A value is trying to be set on a copy of a slice from a DataFrame.\n",
            "Try using .loc[row_indexer,col_indexer] = value instead\n",
            "\n",
            "See the caveats in the documentation: https://pandas.pydata.org/pandas-docs/stable/user_guide/indexing.html#returning-a-view-versus-a-copy\n",
            "  \"\"\"Entry point for launching an IPython kernel.\n"
          ],
          "name": "stderr"
        }
      ]
    },
    {
      "cell_type": "code",
      "metadata": {
        "id": "aOWB6XK-Pqi2",
        "colab_type": "code",
        "colab": {
          "base_uri": "https://localhost:8080/",
          "height": 523
        },
        "outputId": "0a984ec0-fdb3-49cf-9531-15b582ca10ac"
      },
      "source": [
        "train['date'] = train['updt_date'].dt.date         # YYYY-MM-DD(문자)\n",
        "train['year']     = train['updt_date'].dt.year         # 연(4자리숫자)\n",
        "train['month']      = train['updt_date'].dt.month        # 월(숫자)\n",
        "train['season'] = train['updt_date'].dt.quarter"
      ],
      "execution_count": 594,
      "outputs": [
        {
          "output_type": "stream",
          "text": [
            "/usr/local/lib/python3.6/dist-packages/ipykernel_launcher.py:1: SettingWithCopyWarning: \n",
            "A value is trying to be set on a copy of a slice from a DataFrame.\n",
            "Try using .loc[row_indexer,col_indexer] = value instead\n",
            "\n",
            "See the caveats in the documentation: https://pandas.pydata.org/pandas-docs/stable/user_guide/indexing.html#returning-a-view-versus-a-copy\n",
            "  \"\"\"Entry point for launching an IPython kernel.\n",
            "/usr/local/lib/python3.6/dist-packages/ipykernel_launcher.py:2: SettingWithCopyWarning: \n",
            "A value is trying to be set on a copy of a slice from a DataFrame.\n",
            "Try using .loc[row_indexer,col_indexer] = value instead\n",
            "\n",
            "See the caveats in the documentation: https://pandas.pydata.org/pandas-docs/stable/user_guide/indexing.html#returning-a-view-versus-a-copy\n",
            "  \n",
            "/usr/local/lib/python3.6/dist-packages/ipykernel_launcher.py:3: SettingWithCopyWarning: \n",
            "A value is trying to be set on a copy of a slice from a DataFrame.\n",
            "Try using .loc[row_indexer,col_indexer] = value instead\n",
            "\n",
            "See the caveats in the documentation: https://pandas.pydata.org/pandas-docs/stable/user_guide/indexing.html#returning-a-view-versus-a-copy\n",
            "  This is separate from the ipykernel package so we can avoid doing imports until\n",
            "/usr/local/lib/python3.6/dist-packages/ipykernel_launcher.py:4: SettingWithCopyWarning: \n",
            "A value is trying to be set on a copy of a slice from a DataFrame.\n",
            "Try using .loc[row_indexer,col_indexer] = value instead\n",
            "\n",
            "See the caveats in the documentation: https://pandas.pydata.org/pandas-docs/stable/user_guide/indexing.html#returning-a-view-versus-a-copy\n",
            "  after removing the cwd from sys.path.\n"
          ],
          "name": "stderr"
        }
      ]
    },
    {
      "cell_type": "code",
      "metadata": {
        "id": "hPTlCsaJP2x9",
        "colab_type": "code",
        "colab": {
          "base_uri": "https://localhost:8080/",
          "height": 544
        },
        "outputId": "4d095672-6707-4899-ca73-af128b78f3f5"
      },
      "source": [
        "train['season'][train['month'].isin([1,2,12])] = 4  # 겨울\n",
        "train['season'][train['month'].isin([3,4,5])] = 1   # 봄\n",
        "train['season'][train['month'].isin([6,7,8])] = 2  # 여름\n",
        "train['season'][train['month'].isin([9,10,11])] = 3  # 가을"
      ],
      "execution_count": 595,
      "outputs": [
        {
          "output_type": "stream",
          "text": [
            "/usr/local/lib/python3.6/dist-packages/ipykernel_launcher.py:1: SettingWithCopyWarning: \n",
            "A value is trying to be set on a copy of a slice from a DataFrame\n",
            "\n",
            "See the caveats in the documentation: https://pandas.pydata.org/pandas-docs/stable/user_guide/indexing.html#returning-a-view-versus-a-copy\n",
            "  \"\"\"Entry point for launching an IPython kernel.\n",
            "/usr/local/lib/python3.6/dist-packages/pandas/core/generic.py:8765: SettingWithCopyWarning: \n",
            "A value is trying to be set on a copy of a slice from a DataFrame\n",
            "\n",
            "See the caveats in the documentation: https://pandas.pydata.org/pandas-docs/stable/user_guide/indexing.html#returning-a-view-versus-a-copy\n",
            "  self._update_inplace(new_data)\n",
            "/usr/local/lib/python3.6/dist-packages/ipykernel_launcher.py:2: SettingWithCopyWarning: \n",
            "A value is trying to be set on a copy of a slice from a DataFrame\n",
            "\n",
            "See the caveats in the documentation: https://pandas.pydata.org/pandas-docs/stable/user_guide/indexing.html#returning-a-view-versus-a-copy\n",
            "  \n",
            "/usr/local/lib/python3.6/dist-packages/ipykernel_launcher.py:3: SettingWithCopyWarning: \n",
            "A value is trying to be set on a copy of a slice from a DataFrame\n",
            "\n",
            "See the caveats in the documentation: https://pandas.pydata.org/pandas-docs/stable/user_guide/indexing.html#returning-a-view-versus-a-copy\n",
            "  This is separate from the ipykernel package so we can avoid doing imports until\n",
            "/usr/local/lib/python3.6/dist-packages/ipykernel_launcher.py:4: SettingWithCopyWarning: \n",
            "A value is trying to be set on a copy of a slice from a DataFrame\n",
            "\n",
            "See the caveats in the documentation: https://pandas.pydata.org/pandas-docs/stable/user_guide/indexing.html#returning-a-view-versus-a-copy\n",
            "  after removing the cwd from sys.path.\n"
          ],
          "name": "stderr"
        }
      ]
    },
    {
      "cell_type": "code",
      "metadata": {
        "id": "AUKI2V3EQ7Ij",
        "colab_type": "code",
        "colab": {
          "base_uri": "https://localhost:8080/",
          "height": 504
        },
        "outputId": "41bb0583-e79b-4900-b26a-3f284607b409"
      },
      "source": [
        "train.head(3)"
      ],
      "execution_count": 596,
      "outputs": [
        {
          "output_type": "execute_result",
          "data": {
            "text/html": [
              "<div>\n",
              "<style scoped>\n",
              "    .dataframe tbody tr th:only-of-type {\n",
              "        vertical-align: middle;\n",
              "    }\n",
              "\n",
              "    .dataframe tbody tr th {\n",
              "        vertical-align: top;\n",
              "    }\n",
              "\n",
              "    .dataframe thead th {\n",
              "        text-align: right;\n",
              "    }\n",
              "</style>\n",
              "<table border=\"1\" class=\"dataframe\">\n",
              "  <thead>\n",
              "    <tr style=\"text-align: right;\">\n",
              "      <th></th>\n",
              "      <th>id</th>\n",
              "      <th>istrain</th>\n",
              "      <th>updt_date</th>\n",
              "      <th>songs_id</th>\n",
              "      <th>tags_id</th>\n",
              "      <th>plylst_title</th>\n",
              "      <th>song_gn_gnr_basket_flatten</th>\n",
              "      <th>artist_id_basket_flatten</th>\n",
              "      <th>artist_id_basket_count</th>\n",
              "      <th>song_gn_gnr_basket_count</th>\n",
              "      <th>tags</th>\n",
              "      <th>num_songs</th>\n",
              "      <th>num_tags</th>\n",
              "      <th>date</th>\n",
              "      <th>year</th>\n",
              "      <th>month</th>\n",
              "      <th>season</th>\n",
              "    </tr>\n",
              "    <tr>\n",
              "      <th>nid</th>\n",
              "      <th></th>\n",
              "      <th></th>\n",
              "      <th></th>\n",
              "      <th></th>\n",
              "      <th></th>\n",
              "      <th></th>\n",
              "      <th></th>\n",
              "      <th></th>\n",
              "      <th></th>\n",
              "      <th></th>\n",
              "      <th></th>\n",
              "      <th></th>\n",
              "      <th></th>\n",
              "      <th></th>\n",
              "      <th></th>\n",
              "      <th></th>\n",
              "      <th></th>\n",
              "    </tr>\n",
              "  </thead>\n",
              "  <tbody>\n",
              "    <tr>\n",
              "      <th>0</th>\n",
              "      <td>104383.0</td>\n",
              "      <td>1</td>\n",
              "      <td>2020-02-02 16:15:59</td>\n",
              "      <td>[0, 1, 2, 3, 4, 5, 6, 7, 8, 9, 10, 11, 12, 13,...</td>\n",
              "      <td>[0, 1, 2]</td>\n",
              "      <td>설레임 한가득 노래모음</td>\n",
              "      <td>[GN2500, GN0100, GN0300, GN0100, GN0100, GN060...</td>\n",
              "      <td>[490981, 239366, 3305, 1582, 100391, 11538, 27...</td>\n",
              "      <td>55.0</td>\n",
              "      <td>10.0</td>\n",
              "      <td>[설레임, 설렘, 사랑]</td>\n",
              "      <td>74</td>\n",
              "      <td>3</td>\n",
              "      <td>2020-02-02</td>\n",
              "      <td>2020</td>\n",
              "      <td>2</td>\n",
              "      <td>4</td>\n",
              "    </tr>\n",
              "    <tr>\n",
              "      <th>1</th>\n",
              "      <td>28024.0</td>\n",
              "      <td>1</td>\n",
              "      <td>2018-01-23 20:21:27</td>\n",
              "      <td>[74, 75, 76, 77, 78, 79, 80, 81, 82, 83, 84, 8...</td>\n",
              "      <td>[3, 4, 5, 6]</td>\n",
              "      <td>멜랑꼴리한 밤에 고독을 짓씹으며</td>\n",
              "      <td>[GN0100, GN0900, GN0900, GN1000, GN1000, GN030...</td>\n",
              "      <td>[3305, 258383, 258383, 106732, 425140, 108356,...</td>\n",
              "      <td>23.0</td>\n",
              "      <td>11.0</td>\n",
              "      <td>[우울, 새벽, 밤, 고독]</td>\n",
              "      <td>26</td>\n",
              "      <td>4</td>\n",
              "      <td>2018-01-23</td>\n",
              "      <td>2018</td>\n",
              "      <td>1</td>\n",
              "      <td>4</td>\n",
              "    </tr>\n",
              "    <tr>\n",
              "      <th>2</th>\n",
              "      <td>120331.0</td>\n",
              "      <td>1</td>\n",
              "      <td>2018-04-18 17:39:48</td>\n",
              "      <td>[100, 101, 102, 103, 104, 105, 106, 107, 108, ...</td>\n",
              "      <td>[7, 8, 9, 10]</td>\n",
              "      <td>뜨거운 커피 한잔과 함께 듣는 노래</td>\n",
              "      <td>[GN0500, GN0100, GN0500, GN0600, GN0500, GN060...</td>\n",
              "      <td>[681456, 242988, 242988, 770167, 103486, 24298...</td>\n",
              "      <td>16.0</td>\n",
              "      <td>7.0</td>\n",
              "      <td>[커피, 잔잔한, 카페, 발라드]</td>\n",
              "      <td>19</td>\n",
              "      <td>4</td>\n",
              "      <td>2018-04-18</td>\n",
              "      <td>2018</td>\n",
              "      <td>4</td>\n",
              "      <td>1</td>\n",
              "    </tr>\n",
              "  </tbody>\n",
              "</table>\n",
              "</div>"
            ],
            "text/plain": [
              "           id  istrain           updt_date  ...  year month season\n",
              "nid                                         ...                   \n",
              "0    104383.0        1 2020-02-02 16:15:59  ...  2020     2      4\n",
              "1     28024.0        1 2018-01-23 20:21:27  ...  2018     1      4\n",
              "2    120331.0        1 2018-04-18 17:39:48  ...  2018     4      1\n",
              "\n",
              "[3 rows x 17 columns]"
            ]
          },
          "metadata": {
            "tags": []
          },
          "execution_count": 596
        }
      ]
    },
    {
      "cell_type": "markdown",
      "metadata": {
        "id": "lPT9lE7mRtmA",
        "colab_type": "text"
      },
      "source": [
        "### Year_section"
      ]
    },
    {
      "cell_type": "code",
      "metadata": {
        "id": "SwT90Pl7S80Z",
        "colab_type": "code",
        "colab": {}
      },
      "source": [
        "df = pd.DataFrame(columns=['year_section'])\n",
        "train = pd.concat([train,df])"
      ],
      "execution_count": 597,
      "outputs": []
    },
    {
      "cell_type": "code",
      "metadata": {
        "id": "QKCN7z5SRdtX",
        "colab_type": "code",
        "colab": {
          "base_uri": "https://localhost:8080/",
          "height": 544
        },
        "outputId": "12c5090f-6303-4965-efbe-1a6cee07f405"
      },
      "source": [
        "train['year_section'][train['year'].isin([2005,2006,2007,2008,2009,2010,2011,2012])] = 1\n",
        "train['year_section'][train['year'].isin([2013,2014])] = 2\n",
        "train['year_section'][train['year'].isin([2015,2016])] = 3\n",
        "train['year_section'][train['year'].isin([2017,2018])] = 4\n",
        "train['year_section'][train['year'].isin([2019,2020])] = 5"
      ],
      "execution_count": 598,
      "outputs": [
        {
          "output_type": "stream",
          "text": [
            "/usr/local/lib/python3.6/dist-packages/ipykernel_launcher.py:1: SettingWithCopyWarning: \n",
            "A value is trying to be set on a copy of a slice from a DataFrame\n",
            "\n",
            "See the caveats in the documentation: https://pandas.pydata.org/pandas-docs/stable/user_guide/indexing.html#returning-a-view-versus-a-copy\n",
            "  \"\"\"Entry point for launching an IPython kernel.\n",
            "/usr/local/lib/python3.6/dist-packages/ipykernel_launcher.py:2: SettingWithCopyWarning: \n",
            "A value is trying to be set on a copy of a slice from a DataFrame\n",
            "\n",
            "See the caveats in the documentation: https://pandas.pydata.org/pandas-docs/stable/user_guide/indexing.html#returning-a-view-versus-a-copy\n",
            "  \n",
            "/usr/local/lib/python3.6/dist-packages/ipykernel_launcher.py:3: SettingWithCopyWarning: \n",
            "A value is trying to be set on a copy of a slice from a DataFrame\n",
            "\n",
            "See the caveats in the documentation: https://pandas.pydata.org/pandas-docs/stable/user_guide/indexing.html#returning-a-view-versus-a-copy\n",
            "  This is separate from the ipykernel package so we can avoid doing imports until\n",
            "/usr/local/lib/python3.6/dist-packages/ipykernel_launcher.py:4: SettingWithCopyWarning: \n",
            "A value is trying to be set on a copy of a slice from a DataFrame\n",
            "\n",
            "See the caveats in the documentation: https://pandas.pydata.org/pandas-docs/stable/user_guide/indexing.html#returning-a-view-versus-a-copy\n",
            "  after removing the cwd from sys.path.\n",
            "/usr/local/lib/python3.6/dist-packages/ipykernel_launcher.py:5: SettingWithCopyWarning: \n",
            "A value is trying to be set on a copy of a slice from a DataFrame\n",
            "\n",
            "See the caveats in the documentation: https://pandas.pydata.org/pandas-docs/stable/user_guide/indexing.html#returning-a-view-versus-a-copy\n",
            "  \"\"\"\n"
          ],
          "name": "stderr"
        }
      ]
    },
    {
      "cell_type": "code",
      "metadata": {
        "id": "PQlnwmrcUgIW",
        "colab_type": "code",
        "colab": {}
      },
      "source": [
        "del train['date']\n",
        "del train['updt_date']\n",
        "del train['istrain']"
      ],
      "execution_count": 599,
      "outputs": []
    },
    {
      "cell_type": "markdown",
      "metadata": {
        "id": "E6QnCv4wpBTg",
        "colab_type": "text"
      },
      "source": [
        "기존 month, year은 공선성 문제가 있을테니 제거?? -> ㅇㅇ"
      ]
    },
    {
      "cell_type": "code",
      "metadata": {
        "id": "qnAQLEuWhTRF",
        "colab_type": "code",
        "colab": {}
      },
      "source": [
        "X = train.drop('songs_id',axis= 1)\n",
        "X = X.drop('num_songs',axis=1)\n",
        "X = X.drop('num_tags',axis=1)\n",
        "X = X.drop('tags_id', axis=1)"
      ],
      "execution_count": 601,
      "outputs": []
    },
    {
      "cell_type": "code",
      "metadata": {
        "id": "JNbMo4ggBd1E",
        "colab_type": "code",
        "colab": {
          "base_uri": "https://localhost:8080/",
          "height": 291
        },
        "outputId": "e2cbc3dd-0e0a-4cfc-ba75-c4efe5c0029e"
      },
      "source": [
        "X.head(3)\n",
        "\"\"\" plylst_title => 타이틀 임배딩 벡터?\n",
        "    song_gn_gnr_basket_flatten => 장르 cnt-hot-encoding\n",
        "    artist_id_basket_flatten => 아티스트 임배딩 벡터?\n",
        "    tags => 태그 임배딩?\n",
        "\n",
        "    일단 빼고 implement\n",
        "\"\"\""
      ],
      "execution_count": 602,
      "outputs": [
        {
          "output_type": "execute_result",
          "data": {
            "text/html": [
              "<div>\n",
              "<style scoped>\n",
              "    .dataframe tbody tr th:only-of-type {\n",
              "        vertical-align: middle;\n",
              "    }\n",
              "\n",
              "    .dataframe tbody tr th {\n",
              "        vertical-align: top;\n",
              "    }\n",
              "\n",
              "    .dataframe thead th {\n",
              "        text-align: right;\n",
              "    }\n",
              "</style>\n",
              "<table border=\"1\" class=\"dataframe\">\n",
              "  <thead>\n",
              "    <tr style=\"text-align: right;\">\n",
              "      <th></th>\n",
              "      <th>id</th>\n",
              "      <th>plylst_title</th>\n",
              "      <th>song_gn_gnr_basket_flatten</th>\n",
              "      <th>artist_id_basket_flatten</th>\n",
              "      <th>artist_id_basket_count</th>\n",
              "      <th>song_gn_gnr_basket_count</th>\n",
              "      <th>tags</th>\n",
              "      <th>year</th>\n",
              "      <th>month</th>\n",
              "      <th>season</th>\n",
              "      <th>year_section</th>\n",
              "    </tr>\n",
              "  </thead>\n",
              "  <tbody>\n",
              "    <tr>\n",
              "      <th>0</th>\n",
              "      <td>104383.0</td>\n",
              "      <td>설레임 한가득 노래모음</td>\n",
              "      <td>[GN2500, GN0100, GN0300, GN0100, GN0100, GN060...</td>\n",
              "      <td>[490981, 239366, 3305, 1582, 100391, 11538, 27...</td>\n",
              "      <td>55.0</td>\n",
              "      <td>10.0</td>\n",
              "      <td>[설레임, 설렘, 사랑]</td>\n",
              "      <td>2020.0</td>\n",
              "      <td>2.0</td>\n",
              "      <td>4.0</td>\n",
              "      <td>5</td>\n",
              "    </tr>\n",
              "    <tr>\n",
              "      <th>1</th>\n",
              "      <td>28024.0</td>\n",
              "      <td>멜랑꼴리한 밤에 고독을 짓씹으며</td>\n",
              "      <td>[GN0100, GN0900, GN0900, GN1000, GN1000, GN030...</td>\n",
              "      <td>[3305, 258383, 258383, 106732, 425140, 108356,...</td>\n",
              "      <td>23.0</td>\n",
              "      <td>11.0</td>\n",
              "      <td>[우울, 새벽, 밤, 고독]</td>\n",
              "      <td>2018.0</td>\n",
              "      <td>1.0</td>\n",
              "      <td>4.0</td>\n",
              "      <td>4</td>\n",
              "    </tr>\n",
              "    <tr>\n",
              "      <th>2</th>\n",
              "      <td>120331.0</td>\n",
              "      <td>뜨거운 커피 한잔과 함께 듣는 노래</td>\n",
              "      <td>[GN0500, GN0100, GN0500, GN0600, GN0500, GN060...</td>\n",
              "      <td>[681456, 242988, 242988, 770167, 103486, 24298...</td>\n",
              "      <td>16.0</td>\n",
              "      <td>7.0</td>\n",
              "      <td>[커피, 잔잔한, 카페, 발라드]</td>\n",
              "      <td>2018.0</td>\n",
              "      <td>4.0</td>\n",
              "      <td>1.0</td>\n",
              "      <td>4</td>\n",
              "    </tr>\n",
              "  </tbody>\n",
              "</table>\n",
              "</div>"
            ],
            "text/plain": [
              "         id         plylst_title  ... season year_section\n",
              "0  104383.0         설레임 한가득 노래모음  ...    4.0            5\n",
              "1   28024.0    멜랑꼴리한 밤에 고독을 짓씹으며  ...    4.0            4\n",
              "2  120331.0  뜨거운 커피 한잔과 함께 듣는 노래  ...    1.0            4\n",
              "\n",
              "[3 rows x 11 columns]"
            ]
          },
          "metadata": {
            "tags": []
          },
          "execution_count": 602
        }
      ]
    },
    {
      "cell_type": "markdown",
      "metadata": {
        "id": "hV3jdZrVgwYS",
        "colab_type": "text"
      },
      "source": [
        "### 장르 임배딩"
      ]
    },
    {
      "cell_type": "code",
      "metadata": {
        "id": "_bbZ6uGue5fj",
        "colab_type": "code",
        "colab": {}
      },
      "source": [
        "from collections import Counter\n",
        "genre_gn_all = pd.read_json('/content/drive/My Drive/Kakao arena/data/meta/genre_gn_all.json', typ = 'series')\n",
        "genre_gn_all = pd.DataFrame(genre_gn_all, columns = ['gnr_name']).reset_index().rename(columns = {'index' : 'gnr_code'})\n",
        "gnr_code = genre_gn_all[genre_gn_all['gnr_code'].str[-2:] == '00']\n",
        "code2idx = {code:i for i, code in gnr_code['gnr_code'].reset_index(drop=True).items()}\n",
        "code2idx['GN9000'] = 30\n",
        "\n",
        "def genre_cnt(x):\n",
        "    counter = Counter(x)\n",
        "    out = np.zeros(31)\n",
        "    for gnr, cnt in counter.items():\n",
        "        out[code2idx[gnr]] = cnt\n",
        "    return out/len(x)"
      ],
      "execution_count": 603,
      "outputs": []
    },
    {
      "cell_type": "code",
      "metadata": {
        "id": "rUPULZ2ye6X0",
        "colab_type": "code",
        "colab": {}
      },
      "source": [
        "X_gn = pd.concat([X, pd.DataFrame(list(X['song_gn_gnr_basket_flatten'].apply(genre_cnt)))],axis=1)"
      ],
      "execution_count": 625,
      "outputs": []
    },
    {
      "cell_type": "code",
      "metadata": {
        "id": "zDr-Q-o6Ctih",
        "colab_type": "code",
        "colab": {}
      },
      "source": [
        "X_gn = X_gn.add_prefix('gn_') "
      ],
      "execution_count": 626,
      "outputs": []
    },
    {
      "cell_type": "code",
      "metadata": {
        "id": "VXVyPgX3DF5P",
        "colab_type": "code",
        "colab": {}
      },
      "source": [
        "X_gn.rename(columns = {'gn_id':'id','gn_plylst_title':'plylst_title','gn_song_gn_gnr_basket_flatten':'song_gn_gnr_basket_flatten','gn_artist_id_basket_flatten':'artist_id_basket_flatten',\n",
        "                      'gn_artist_id_basket_count':'artist_id_basket_count','gn_song_gn_gnr_basket_count':'song_gn_gnr_basket_count','gn_tags':'tags','gn_year':'year','gn_month':'month',\n",
        "                      'gn_season':'season','gn_year_section':'year_section'},inplace=True)"
      ],
      "execution_count": 627,
      "outputs": []
    },
    {
      "cell_type": "code",
      "metadata": {
        "id": "ZSa2p8pSEL5z",
        "colab_type": "code",
        "colab": {
          "base_uri": "https://localhost:8080/",
          "height": 471
        },
        "outputId": "42335586-b663-41a5-80a4-d600e06b7f4d"
      },
      "source": [
        "X_gn.head(3)"
      ],
      "execution_count": 628,
      "outputs": [
        {
          "output_type": "execute_result",
          "data": {
            "text/html": [
              "<div>\n",
              "<style scoped>\n",
              "    .dataframe tbody tr th:only-of-type {\n",
              "        vertical-align: middle;\n",
              "    }\n",
              "\n",
              "    .dataframe tbody tr th {\n",
              "        vertical-align: top;\n",
              "    }\n",
              "\n",
              "    .dataframe thead th {\n",
              "        text-align: right;\n",
              "    }\n",
              "</style>\n",
              "<table border=\"1\" class=\"dataframe\">\n",
              "  <thead>\n",
              "    <tr style=\"text-align: right;\">\n",
              "      <th></th>\n",
              "      <th>id</th>\n",
              "      <th>plylst_title</th>\n",
              "      <th>song_gn_gnr_basket_flatten</th>\n",
              "      <th>artist_id_basket_flatten</th>\n",
              "      <th>artist_id_basket_count</th>\n",
              "      <th>song_gn_gnr_basket_count</th>\n",
              "      <th>tags</th>\n",
              "      <th>year</th>\n",
              "      <th>month</th>\n",
              "      <th>season</th>\n",
              "      <th>year_section</th>\n",
              "      <th>gn_0</th>\n",
              "      <th>gn_1</th>\n",
              "      <th>gn_2</th>\n",
              "      <th>gn_3</th>\n",
              "      <th>gn_4</th>\n",
              "      <th>gn_5</th>\n",
              "      <th>gn_6</th>\n",
              "      <th>gn_7</th>\n",
              "      <th>gn_8</th>\n",
              "      <th>gn_9</th>\n",
              "      <th>gn_10</th>\n",
              "      <th>gn_11</th>\n",
              "      <th>gn_12</th>\n",
              "      <th>gn_13</th>\n",
              "      <th>gn_14</th>\n",
              "      <th>gn_15</th>\n",
              "      <th>gn_16</th>\n",
              "      <th>gn_17</th>\n",
              "      <th>gn_18</th>\n",
              "      <th>gn_19</th>\n",
              "      <th>gn_20</th>\n",
              "      <th>gn_21</th>\n",
              "      <th>gn_22</th>\n",
              "      <th>gn_23</th>\n",
              "      <th>gn_24</th>\n",
              "      <th>gn_25</th>\n",
              "      <th>gn_26</th>\n",
              "      <th>gn_27</th>\n",
              "      <th>gn_28</th>\n",
              "      <th>gn_29</th>\n",
              "      <th>gn_30</th>\n",
              "    </tr>\n",
              "  </thead>\n",
              "  <tbody>\n",
              "    <tr>\n",
              "      <th>0</th>\n",
              "      <td>104383.0</td>\n",
              "      <td>설레임 한가득 노래모음</td>\n",
              "      <td>[GN2500, GN0100, GN0300, GN0100, GN0100, GN060...</td>\n",
              "      <td>[490981, 239366, 3305, 1582, 100391, 11538, 27...</td>\n",
              "      <td>55.0</td>\n",
              "      <td>10.0</td>\n",
              "      <td>[설레임, 설렘, 사랑]</td>\n",
              "      <td>2020.0</td>\n",
              "      <td>2.0</td>\n",
              "      <td>4.0</td>\n",
              "      <td>5</td>\n",
              "      <td>0.27451</td>\n",
              "      <td>0.029412</td>\n",
              "      <td>0.147059</td>\n",
              "      <td>0.107843</td>\n",
              "      <td>0.107843</td>\n",
              "      <td>0.088235</td>\n",
              "      <td>0.0</td>\n",
              "      <td>0.098039</td>\n",
              "      <td>0.000000</td>\n",
              "      <td>0.000000</td>\n",
              "      <td>0.0</td>\n",
              "      <td>0.0</td>\n",
              "      <td>0.000000</td>\n",
              "      <td>0.000000</td>\n",
              "      <td>0.068627</td>\n",
              "      <td>0.0</td>\n",
              "      <td>0.009804</td>\n",
              "      <td>0.0</td>\n",
              "      <td>0.0</td>\n",
              "      <td>0.0</td>\n",
              "      <td>0.0</td>\n",
              "      <td>0.0</td>\n",
              "      <td>0.0</td>\n",
              "      <td>0.0</td>\n",
              "      <td>0.068627</td>\n",
              "      <td>0.0</td>\n",
              "      <td>0.0</td>\n",
              "      <td>0.0</td>\n",
              "      <td>0.0</td>\n",
              "      <td>0.0</td>\n",
              "      <td>0.0</td>\n",
              "    </tr>\n",
              "    <tr>\n",
              "      <th>1</th>\n",
              "      <td>28024.0</td>\n",
              "      <td>멜랑꼴리한 밤에 고독을 짓씹으며</td>\n",
              "      <td>[GN0100, GN0900, GN0900, GN1000, GN1000, GN030...</td>\n",
              "      <td>[3305, 258383, 258383, 106732, 425140, 108356,...</td>\n",
              "      <td>23.0</td>\n",
              "      <td>11.0</td>\n",
              "      <td>[우울, 새벽, 밤, 고독]</td>\n",
              "      <td>2018.0</td>\n",
              "      <td>1.0</td>\n",
              "      <td>4.0</td>\n",
              "      <td>4</td>\n",
              "      <td>0.27027</td>\n",
              "      <td>0.000000</td>\n",
              "      <td>0.189189</td>\n",
              "      <td>0.027027</td>\n",
              "      <td>0.027027</td>\n",
              "      <td>0.108108</td>\n",
              "      <td>0.0</td>\n",
              "      <td>0.027027</td>\n",
              "      <td>0.054054</td>\n",
              "      <td>0.216216</td>\n",
              "      <td>0.0</td>\n",
              "      <td>0.0</td>\n",
              "      <td>0.027027</td>\n",
              "      <td>0.027027</td>\n",
              "      <td>0.027027</td>\n",
              "      <td>0.0</td>\n",
              "      <td>0.000000</td>\n",
              "      <td>0.0</td>\n",
              "      <td>0.0</td>\n",
              "      <td>0.0</td>\n",
              "      <td>0.0</td>\n",
              "      <td>0.0</td>\n",
              "      <td>0.0</td>\n",
              "      <td>0.0</td>\n",
              "      <td>0.000000</td>\n",
              "      <td>0.0</td>\n",
              "      <td>0.0</td>\n",
              "      <td>0.0</td>\n",
              "      <td>0.0</td>\n",
              "      <td>0.0</td>\n",
              "      <td>0.0</td>\n",
              "    </tr>\n",
              "    <tr>\n",
              "      <th>2</th>\n",
              "      <td>120331.0</td>\n",
              "      <td>뜨거운 커피 한잔과 함께 듣는 노래</td>\n",
              "      <td>[GN0500, GN0100, GN0500, GN0600, GN0500, GN060...</td>\n",
              "      <td>[681456, 242988, 242988, 770167, 103486, 24298...</td>\n",
              "      <td>16.0</td>\n",
              "      <td>7.0</td>\n",
              "      <td>[커피, 잔잔한, 카페, 발라드]</td>\n",
              "      <td>2018.0</td>\n",
              "      <td>4.0</td>\n",
              "      <td>1.0</td>\n",
              "      <td>4</td>\n",
              "      <td>0.25000</td>\n",
              "      <td>0.027778</td>\n",
              "      <td>0.027778</td>\n",
              "      <td>0.000000</td>\n",
              "      <td>0.416667</td>\n",
              "      <td>0.194444</td>\n",
              "      <td>0.0</td>\n",
              "      <td>0.055556</td>\n",
              "      <td>0.000000</td>\n",
              "      <td>0.000000</td>\n",
              "      <td>0.0</td>\n",
              "      <td>0.0</td>\n",
              "      <td>0.000000</td>\n",
              "      <td>0.000000</td>\n",
              "      <td>0.027778</td>\n",
              "      <td>0.0</td>\n",
              "      <td>0.000000</td>\n",
              "      <td>0.0</td>\n",
              "      <td>0.0</td>\n",
              "      <td>0.0</td>\n",
              "      <td>0.0</td>\n",
              "      <td>0.0</td>\n",
              "      <td>0.0</td>\n",
              "      <td>0.0</td>\n",
              "      <td>0.000000</td>\n",
              "      <td>0.0</td>\n",
              "      <td>0.0</td>\n",
              "      <td>0.0</td>\n",
              "      <td>0.0</td>\n",
              "      <td>0.0</td>\n",
              "      <td>0.0</td>\n",
              "    </tr>\n",
              "  </tbody>\n",
              "</table>\n",
              "</div>"
            ],
            "text/plain": [
              "         id         plylst_title  ... gn_29 gn_30\n",
              "0  104383.0         설레임 한가득 노래모음  ...   0.0   0.0\n",
              "1   28024.0    멜랑꼴리한 밤에 고독을 짓씹으며  ...   0.0   0.0\n",
              "2  120331.0  뜨거운 커피 한잔과 함께 듣는 노래  ...   0.0   0.0\n",
              "\n",
              "[3 rows x 42 columns]"
            ]
          },
          "metadata": {
            "tags": []
          },
          "execution_count": 628
        }
      ]
    },
    {
      "cell_type": "markdown",
      "metadata": {
        "id": "65FJZDM1EuZo",
        "colab_type": "text"
      },
      "source": [
        "### tag 임배딩"
      ]
    },
    {
      "cell_type": "code",
      "metadata": {
        "id": "kWEU-LmbEty8",
        "colab_type": "code",
        "colab": {}
      },
      "source": [
        "from gensim.models import Word2Vec\n",
        "tags = [p for p in X['tags'] if len(p) != 1]\n",
        "\n",
        "m = Word2Vec(tags, size=16)"
      ],
      "execution_count": 620,
      "outputs": []
    },
    {
      "cell_type": "code",
      "metadata": {
        "id": "IpzEiE40FnJ3",
        "colab_type": "code",
        "colab": {}
      },
      "source": [
        "tag_vector = m.wv\n",
        "\n",
        "tags = tag_vector.vocab.keys()\n",
        "tag_vector_lst = [tag_vector[v] for v in tags]"
      ],
      "execution_count": 621,
      "outputs": []
    },
    {
      "cell_type": "code",
      "metadata": {
        "id": "K7rhyF1Ck00K",
        "colab_type": "code",
        "colab": {}
      },
      "source": [
        "def tag_embed(x):\n",
        "    tem = []\n",
        "    for tag in x:\n",
        "        try:\n",
        "            tem.append(tag_vector.get_vector(tag))\n",
        "        except KeyError as e:\n",
        "            pass\n",
        "    if tem == []:\n",
        "        return np.zeros(16)\n",
        "    else:\n",
        "        return np.mean(tem,axis=0)"
      ],
      "execution_count": 629,
      "outputs": []
    },
    {
      "cell_type": "code",
      "metadata": {
        "id": "BoU6Ul8KolVy",
        "colab_type": "code",
        "colab": {}
      },
      "source": [
        "X_total = pd.concat([X_gn ,pd.DataFrame(list(X['tags'].apply(tag_embed)))],axis=1)"
      ],
      "execution_count": 653,
      "outputs": []
    },
    {
      "cell_type": "code",
      "metadata": {
        "id": "DBErxol1FoRd",
        "colab_type": "code",
        "colab": {}
      },
      "source": [
        "X_total.rename(columns = {0:'tag_0',1:'tag_1',2:'tag_2',3:'tag_3',4:'tag_4',5:'tag_5',6:'tag_6',7:'tag_7',8:'tag_8',9:'tag_9',10:'tag_10',11:'tag_11',12:'tag_12',\n",
        "                          13:'tag_13',14:'tag_14',15:'tag_15'},inplace=True)"
      ],
      "execution_count": 655,
      "outputs": []
    },
    {
      "cell_type": "code",
      "metadata": {
        "id": "QLVL2OUdqp59",
        "colab_type": "code",
        "colab": {
          "base_uri": "https://localhost:8080/",
          "height": 471
        },
        "outputId": "c32cfba6-42bd-49de-f1a0-ca1312a8a8a8"
      },
      "source": [
        "X_total.head(3)"
      ],
      "execution_count": 656,
      "outputs": [
        {
          "output_type": "execute_result",
          "data": {
            "text/html": [
              "<div>\n",
              "<style scoped>\n",
              "    .dataframe tbody tr th:only-of-type {\n",
              "        vertical-align: middle;\n",
              "    }\n",
              "\n",
              "    .dataframe tbody tr th {\n",
              "        vertical-align: top;\n",
              "    }\n",
              "\n",
              "    .dataframe thead th {\n",
              "        text-align: right;\n",
              "    }\n",
              "</style>\n",
              "<table border=\"1\" class=\"dataframe\">\n",
              "  <thead>\n",
              "    <tr style=\"text-align: right;\">\n",
              "      <th></th>\n",
              "      <th>id</th>\n",
              "      <th>plylst_title</th>\n",
              "      <th>song_gn_gnr_basket_flatten</th>\n",
              "      <th>artist_id_basket_flatten</th>\n",
              "      <th>artist_id_basket_count</th>\n",
              "      <th>song_gn_gnr_basket_count</th>\n",
              "      <th>tags</th>\n",
              "      <th>year</th>\n",
              "      <th>month</th>\n",
              "      <th>season</th>\n",
              "      <th>year_section</th>\n",
              "      <th>gn_0</th>\n",
              "      <th>gn_1</th>\n",
              "      <th>gn_2</th>\n",
              "      <th>gn_3</th>\n",
              "      <th>gn_4</th>\n",
              "      <th>gn_5</th>\n",
              "      <th>gn_6</th>\n",
              "      <th>gn_7</th>\n",
              "      <th>gn_8</th>\n",
              "      <th>gn_9</th>\n",
              "      <th>gn_10</th>\n",
              "      <th>gn_11</th>\n",
              "      <th>gn_12</th>\n",
              "      <th>gn_13</th>\n",
              "      <th>gn_14</th>\n",
              "      <th>gn_15</th>\n",
              "      <th>gn_16</th>\n",
              "      <th>gn_17</th>\n",
              "      <th>gn_18</th>\n",
              "      <th>gn_19</th>\n",
              "      <th>gn_20</th>\n",
              "      <th>gn_21</th>\n",
              "      <th>gn_22</th>\n",
              "      <th>gn_23</th>\n",
              "      <th>gn_24</th>\n",
              "      <th>gn_25</th>\n",
              "      <th>gn_26</th>\n",
              "      <th>gn_27</th>\n",
              "      <th>gn_28</th>\n",
              "      <th>gn_29</th>\n",
              "      <th>gn_30</th>\n",
              "      <th>tag_0</th>\n",
              "      <th>tag_1</th>\n",
              "      <th>tag_2</th>\n",
              "      <th>tag_3</th>\n",
              "      <th>tag_4</th>\n",
              "      <th>tag_5</th>\n",
              "      <th>tag_6</th>\n",
              "      <th>tag_7</th>\n",
              "      <th>tag_8</th>\n",
              "      <th>tag_9</th>\n",
              "      <th>tag_10</th>\n",
              "      <th>tag_11</th>\n",
              "      <th>tag_12</th>\n",
              "      <th>tag_13</th>\n",
              "      <th>tag_14</th>\n",
              "      <th>tag_15</th>\n",
              "    </tr>\n",
              "  </thead>\n",
              "  <tbody>\n",
              "    <tr>\n",
              "      <th>0</th>\n",
              "      <td>104383.0</td>\n",
              "      <td>설레임 한가득 노래모음</td>\n",
              "      <td>[GN2500, GN0100, GN0300, GN0100, GN0100, GN060...</td>\n",
              "      <td>[490981, 239366, 3305, 1582, 100391, 11538, 27...</td>\n",
              "      <td>55.0</td>\n",
              "      <td>10.0</td>\n",
              "      <td>[설레임, 설렘, 사랑]</td>\n",
              "      <td>2020.0</td>\n",
              "      <td>2.0</td>\n",
              "      <td>4.0</td>\n",
              "      <td>5</td>\n",
              "      <td>0.27451</td>\n",
              "      <td>0.029412</td>\n",
              "      <td>0.147059</td>\n",
              "      <td>0.107843</td>\n",
              "      <td>0.107843</td>\n",
              "      <td>0.088235</td>\n",
              "      <td>0.0</td>\n",
              "      <td>0.098039</td>\n",
              "      <td>0.000000</td>\n",
              "      <td>0.000000</td>\n",
              "      <td>0.0</td>\n",
              "      <td>0.0</td>\n",
              "      <td>0.000000</td>\n",
              "      <td>0.000000</td>\n",
              "      <td>0.068627</td>\n",
              "      <td>0.0</td>\n",
              "      <td>0.009804</td>\n",
              "      <td>0.0</td>\n",
              "      <td>0.0</td>\n",
              "      <td>0.0</td>\n",
              "      <td>0.0</td>\n",
              "      <td>0.0</td>\n",
              "      <td>0.0</td>\n",
              "      <td>0.0</td>\n",
              "      <td>0.068627</td>\n",
              "      <td>0.0</td>\n",
              "      <td>0.0</td>\n",
              "      <td>0.0</td>\n",
              "      <td>0.0</td>\n",
              "      <td>0.0</td>\n",
              "      <td>0.0</td>\n",
              "      <td>1.224304</td>\n",
              "      <td>1.683418</td>\n",
              "      <td>0.597946</td>\n",
              "      <td>1.564993</td>\n",
              "      <td>-1.088136</td>\n",
              "      <td>-2.614438</td>\n",
              "      <td>-0.955315</td>\n",
              "      <td>0.888589</td>\n",
              "      <td>2.248377</td>\n",
              "      <td>-0.799817</td>\n",
              "      <td>-0.970268</td>\n",
              "      <td>0.554964</td>\n",
              "      <td>0.464699</td>\n",
              "      <td>1.538041</td>\n",
              "      <td>0.052989</td>\n",
              "      <td>-0.054441</td>\n",
              "    </tr>\n",
              "    <tr>\n",
              "      <th>1</th>\n",
              "      <td>28024.0</td>\n",
              "      <td>멜랑꼴리한 밤에 고독을 짓씹으며</td>\n",
              "      <td>[GN0100, GN0900, GN0900, GN1000, GN1000, GN030...</td>\n",
              "      <td>[3305, 258383, 258383, 106732, 425140, 108356,...</td>\n",
              "      <td>23.0</td>\n",
              "      <td>11.0</td>\n",
              "      <td>[우울, 새벽, 밤, 고독]</td>\n",
              "      <td>2018.0</td>\n",
              "      <td>1.0</td>\n",
              "      <td>4.0</td>\n",
              "      <td>4</td>\n",
              "      <td>0.27027</td>\n",
              "      <td>0.000000</td>\n",
              "      <td>0.189189</td>\n",
              "      <td>0.027027</td>\n",
              "      <td>0.027027</td>\n",
              "      <td>0.108108</td>\n",
              "      <td>0.0</td>\n",
              "      <td>0.027027</td>\n",
              "      <td>0.054054</td>\n",
              "      <td>0.216216</td>\n",
              "      <td>0.0</td>\n",
              "      <td>0.0</td>\n",
              "      <td>0.027027</td>\n",
              "      <td>0.027027</td>\n",
              "      <td>0.027027</td>\n",
              "      <td>0.0</td>\n",
              "      <td>0.000000</td>\n",
              "      <td>0.0</td>\n",
              "      <td>0.0</td>\n",
              "      <td>0.0</td>\n",
              "      <td>0.0</td>\n",
              "      <td>0.0</td>\n",
              "      <td>0.0</td>\n",
              "      <td>0.0</td>\n",
              "      <td>0.000000</td>\n",
              "      <td>0.0</td>\n",
              "      <td>0.0</td>\n",
              "      <td>0.0</td>\n",
              "      <td>0.0</td>\n",
              "      <td>0.0</td>\n",
              "      <td>0.0</td>\n",
              "      <td>1.804882</td>\n",
              "      <td>-0.930250</td>\n",
              "      <td>0.160867</td>\n",
              "      <td>0.657510</td>\n",
              "      <td>-1.311092</td>\n",
              "      <td>-2.933626</td>\n",
              "      <td>-0.854970</td>\n",
              "      <td>-0.274359</td>\n",
              "      <td>0.663643</td>\n",
              "      <td>0.799360</td>\n",
              "      <td>0.880315</td>\n",
              "      <td>1.298008</td>\n",
              "      <td>1.778712</td>\n",
              "      <td>0.646767</td>\n",
              "      <td>2.571407</td>\n",
              "      <td>-0.221754</td>\n",
              "    </tr>\n",
              "    <tr>\n",
              "      <th>2</th>\n",
              "      <td>120331.0</td>\n",
              "      <td>뜨거운 커피 한잔과 함께 듣는 노래</td>\n",
              "      <td>[GN0500, GN0100, GN0500, GN0600, GN0500, GN060...</td>\n",
              "      <td>[681456, 242988, 242988, 770167, 103486, 24298...</td>\n",
              "      <td>16.0</td>\n",
              "      <td>7.0</td>\n",
              "      <td>[커피, 잔잔한, 카페, 발라드]</td>\n",
              "      <td>2018.0</td>\n",
              "      <td>4.0</td>\n",
              "      <td>1.0</td>\n",
              "      <td>4</td>\n",
              "      <td>0.25000</td>\n",
              "      <td>0.027778</td>\n",
              "      <td>0.027778</td>\n",
              "      <td>0.000000</td>\n",
              "      <td>0.416667</td>\n",
              "      <td>0.194444</td>\n",
              "      <td>0.0</td>\n",
              "      <td>0.055556</td>\n",
              "      <td>0.000000</td>\n",
              "      <td>0.000000</td>\n",
              "      <td>0.0</td>\n",
              "      <td>0.0</td>\n",
              "      <td>0.000000</td>\n",
              "      <td>0.000000</td>\n",
              "      <td>0.027778</td>\n",
              "      <td>0.0</td>\n",
              "      <td>0.000000</td>\n",
              "      <td>0.0</td>\n",
              "      <td>0.0</td>\n",
              "      <td>0.0</td>\n",
              "      <td>0.0</td>\n",
              "      <td>0.0</td>\n",
              "      <td>0.0</td>\n",
              "      <td>0.0</td>\n",
              "      <td>0.000000</td>\n",
              "      <td>0.0</td>\n",
              "      <td>0.0</td>\n",
              "      <td>0.0</td>\n",
              "      <td>0.0</td>\n",
              "      <td>0.0</td>\n",
              "      <td>0.0</td>\n",
              "      <td>0.022725</td>\n",
              "      <td>0.522381</td>\n",
              "      <td>0.414624</td>\n",
              "      <td>1.473984</td>\n",
              "      <td>-0.372707</td>\n",
              "      <td>-2.786552</td>\n",
              "      <td>-0.396182</td>\n",
              "      <td>1.665532</td>\n",
              "      <td>1.368603</td>\n",
              "      <td>0.179974</td>\n",
              "      <td>0.399790</td>\n",
              "      <td>1.265499</td>\n",
              "      <td>1.673380</td>\n",
              "      <td>1.525942</td>\n",
              "      <td>2.518969</td>\n",
              "      <td>-0.762181</td>\n",
              "    </tr>\n",
              "  </tbody>\n",
              "</table>\n",
              "</div>"
            ],
            "text/plain": [
              "         id         plylst_title  ...    tag_14    tag_15\n",
              "0  104383.0         설레임 한가득 노래모음  ...  0.052989 -0.054441\n",
              "1   28024.0    멜랑꼴리한 밤에 고독을 짓씹으며  ...  2.571407 -0.221754\n",
              "2  120331.0  뜨거운 커피 한잔과 함께 듣는 노래  ...  2.518969 -0.762181\n",
              "\n",
              "[3 rows x 58 columns]"
            ]
          },
          "metadata": {
            "tags": []
          },
          "execution_count": 656
        }
      ]
    },
    {
      "cell_type": "code",
      "metadata": {
        "id": "q8PSFK2UsK1D",
        "colab_type": "code",
        "colab": {}
      },
      "source": [
        "## 저장\n",
        "## GN9000 - 장르분류X col 제거\n",
        "X_total = X_total.drop('gn_30',axis=1)\n",
        "\n",
        "X_total.to_json('X_total.json', orient='table')"
      ],
      "execution_count": 657,
      "outputs": []
    },
    {
      "cell_type": "code",
      "metadata": {
        "id": "8NcSC7c3q1a1",
        "colab_type": "code",
        "colab": {
          "base_uri": "https://localhost:8080/",
          "height": 171
        },
        "outputId": "5d37154c-6ef9-412e-d74c-dd5ce0085dd1"
      },
      "source": [
        "## X_train : id 등등을 제거한 train set\n",
        "X_total = X_total.drop('song_gn_gnr_basket_flatten',axis=1)\n",
        "X_total = X_total.drop('artist_id_basket_flatten',axis=1)\n",
        "X_total = X_total.drop('year', axis=1)\n",
        "X_total = X_total.drop('month', axis=1)\n",
        "X_total = X_total.drop('tags', axis=1)\n",
        "X_train = X_total.drop('plylst_title',axis=1)\n",
        "X_train = X_train.drop('id',axis=1)\n",
        "X_train.head(3)"
      ],
      "execution_count": 658,
      "outputs": [
        {
          "output_type": "execute_result",
          "data": {
            "text/html": [
              "<div>\n",
              "<style scoped>\n",
              "    .dataframe tbody tr th:only-of-type {\n",
              "        vertical-align: middle;\n",
              "    }\n",
              "\n",
              "    .dataframe tbody tr th {\n",
              "        vertical-align: top;\n",
              "    }\n",
              "\n",
              "    .dataframe thead th {\n",
              "        text-align: right;\n",
              "    }\n",
              "</style>\n",
              "<table border=\"1\" class=\"dataframe\">\n",
              "  <thead>\n",
              "    <tr style=\"text-align: right;\">\n",
              "      <th></th>\n",
              "      <th>artist_id_basket_count</th>\n",
              "      <th>song_gn_gnr_basket_count</th>\n",
              "      <th>season</th>\n",
              "      <th>year_section</th>\n",
              "      <th>gn_0</th>\n",
              "      <th>gn_1</th>\n",
              "      <th>gn_2</th>\n",
              "      <th>gn_3</th>\n",
              "      <th>gn_4</th>\n",
              "      <th>gn_5</th>\n",
              "      <th>gn_6</th>\n",
              "      <th>gn_7</th>\n",
              "      <th>gn_8</th>\n",
              "      <th>gn_9</th>\n",
              "      <th>gn_10</th>\n",
              "      <th>gn_11</th>\n",
              "      <th>gn_12</th>\n",
              "      <th>gn_13</th>\n",
              "      <th>gn_14</th>\n",
              "      <th>gn_15</th>\n",
              "      <th>gn_16</th>\n",
              "      <th>gn_17</th>\n",
              "      <th>gn_18</th>\n",
              "      <th>gn_19</th>\n",
              "      <th>gn_20</th>\n",
              "      <th>gn_21</th>\n",
              "      <th>gn_22</th>\n",
              "      <th>gn_23</th>\n",
              "      <th>gn_24</th>\n",
              "      <th>gn_25</th>\n",
              "      <th>gn_26</th>\n",
              "      <th>gn_27</th>\n",
              "      <th>gn_28</th>\n",
              "      <th>gn_29</th>\n",
              "      <th>tag_0</th>\n",
              "      <th>tag_1</th>\n",
              "      <th>tag_2</th>\n",
              "      <th>tag_3</th>\n",
              "      <th>tag_4</th>\n",
              "      <th>tag_5</th>\n",
              "      <th>tag_6</th>\n",
              "      <th>tag_7</th>\n",
              "      <th>tag_8</th>\n",
              "      <th>tag_9</th>\n",
              "      <th>tag_10</th>\n",
              "      <th>tag_11</th>\n",
              "      <th>tag_12</th>\n",
              "      <th>tag_13</th>\n",
              "      <th>tag_14</th>\n",
              "      <th>tag_15</th>\n",
              "    </tr>\n",
              "  </thead>\n",
              "  <tbody>\n",
              "    <tr>\n",
              "      <th>0</th>\n",
              "      <td>55.0</td>\n",
              "      <td>10.0</td>\n",
              "      <td>4.0</td>\n",
              "      <td>5</td>\n",
              "      <td>0.27451</td>\n",
              "      <td>0.029412</td>\n",
              "      <td>0.147059</td>\n",
              "      <td>0.107843</td>\n",
              "      <td>0.107843</td>\n",
              "      <td>0.088235</td>\n",
              "      <td>0.0</td>\n",
              "      <td>0.098039</td>\n",
              "      <td>0.000000</td>\n",
              "      <td>0.000000</td>\n",
              "      <td>0.0</td>\n",
              "      <td>0.0</td>\n",
              "      <td>0.000000</td>\n",
              "      <td>0.000000</td>\n",
              "      <td>0.068627</td>\n",
              "      <td>0.0</td>\n",
              "      <td>0.009804</td>\n",
              "      <td>0.0</td>\n",
              "      <td>0.0</td>\n",
              "      <td>0.0</td>\n",
              "      <td>0.0</td>\n",
              "      <td>0.0</td>\n",
              "      <td>0.0</td>\n",
              "      <td>0.0</td>\n",
              "      <td>0.068627</td>\n",
              "      <td>0.0</td>\n",
              "      <td>0.0</td>\n",
              "      <td>0.0</td>\n",
              "      <td>0.0</td>\n",
              "      <td>0.0</td>\n",
              "      <td>1.224304</td>\n",
              "      <td>1.683418</td>\n",
              "      <td>0.597946</td>\n",
              "      <td>1.564993</td>\n",
              "      <td>-1.088136</td>\n",
              "      <td>-2.614438</td>\n",
              "      <td>-0.955315</td>\n",
              "      <td>0.888589</td>\n",
              "      <td>2.248377</td>\n",
              "      <td>-0.799817</td>\n",
              "      <td>-0.970268</td>\n",
              "      <td>0.554964</td>\n",
              "      <td>0.464699</td>\n",
              "      <td>1.538041</td>\n",
              "      <td>0.052989</td>\n",
              "      <td>-0.054441</td>\n",
              "    </tr>\n",
              "    <tr>\n",
              "      <th>1</th>\n",
              "      <td>23.0</td>\n",
              "      <td>11.0</td>\n",
              "      <td>4.0</td>\n",
              "      <td>4</td>\n",
              "      <td>0.27027</td>\n",
              "      <td>0.000000</td>\n",
              "      <td>0.189189</td>\n",
              "      <td>0.027027</td>\n",
              "      <td>0.027027</td>\n",
              "      <td>0.108108</td>\n",
              "      <td>0.0</td>\n",
              "      <td>0.027027</td>\n",
              "      <td>0.054054</td>\n",
              "      <td>0.216216</td>\n",
              "      <td>0.0</td>\n",
              "      <td>0.0</td>\n",
              "      <td>0.027027</td>\n",
              "      <td>0.027027</td>\n",
              "      <td>0.027027</td>\n",
              "      <td>0.0</td>\n",
              "      <td>0.000000</td>\n",
              "      <td>0.0</td>\n",
              "      <td>0.0</td>\n",
              "      <td>0.0</td>\n",
              "      <td>0.0</td>\n",
              "      <td>0.0</td>\n",
              "      <td>0.0</td>\n",
              "      <td>0.0</td>\n",
              "      <td>0.000000</td>\n",
              "      <td>0.0</td>\n",
              "      <td>0.0</td>\n",
              "      <td>0.0</td>\n",
              "      <td>0.0</td>\n",
              "      <td>0.0</td>\n",
              "      <td>1.804882</td>\n",
              "      <td>-0.930250</td>\n",
              "      <td>0.160867</td>\n",
              "      <td>0.657510</td>\n",
              "      <td>-1.311092</td>\n",
              "      <td>-2.933626</td>\n",
              "      <td>-0.854970</td>\n",
              "      <td>-0.274359</td>\n",
              "      <td>0.663643</td>\n",
              "      <td>0.799360</td>\n",
              "      <td>0.880315</td>\n",
              "      <td>1.298008</td>\n",
              "      <td>1.778712</td>\n",
              "      <td>0.646767</td>\n",
              "      <td>2.571407</td>\n",
              "      <td>-0.221754</td>\n",
              "    </tr>\n",
              "    <tr>\n",
              "      <th>2</th>\n",
              "      <td>16.0</td>\n",
              "      <td>7.0</td>\n",
              "      <td>1.0</td>\n",
              "      <td>4</td>\n",
              "      <td>0.25000</td>\n",
              "      <td>0.027778</td>\n",
              "      <td>0.027778</td>\n",
              "      <td>0.000000</td>\n",
              "      <td>0.416667</td>\n",
              "      <td>0.194444</td>\n",
              "      <td>0.0</td>\n",
              "      <td>0.055556</td>\n",
              "      <td>0.000000</td>\n",
              "      <td>0.000000</td>\n",
              "      <td>0.0</td>\n",
              "      <td>0.0</td>\n",
              "      <td>0.000000</td>\n",
              "      <td>0.000000</td>\n",
              "      <td>0.027778</td>\n",
              "      <td>0.0</td>\n",
              "      <td>0.000000</td>\n",
              "      <td>0.0</td>\n",
              "      <td>0.0</td>\n",
              "      <td>0.0</td>\n",
              "      <td>0.0</td>\n",
              "      <td>0.0</td>\n",
              "      <td>0.0</td>\n",
              "      <td>0.0</td>\n",
              "      <td>0.000000</td>\n",
              "      <td>0.0</td>\n",
              "      <td>0.0</td>\n",
              "      <td>0.0</td>\n",
              "      <td>0.0</td>\n",
              "      <td>0.0</td>\n",
              "      <td>0.022725</td>\n",
              "      <td>0.522381</td>\n",
              "      <td>0.414624</td>\n",
              "      <td>1.473984</td>\n",
              "      <td>-0.372707</td>\n",
              "      <td>-2.786552</td>\n",
              "      <td>-0.396182</td>\n",
              "      <td>1.665532</td>\n",
              "      <td>1.368603</td>\n",
              "      <td>0.179974</td>\n",
              "      <td>0.399790</td>\n",
              "      <td>1.265499</td>\n",
              "      <td>1.673380</td>\n",
              "      <td>1.525942</td>\n",
              "      <td>2.518969</td>\n",
              "      <td>-0.762181</td>\n",
              "    </tr>\n",
              "  </tbody>\n",
              "</table>\n",
              "</div>"
            ],
            "text/plain": [
              "   artist_id_basket_count  song_gn_gnr_basket_count  ...    tag_14    tag_15\n",
              "0                    55.0                      10.0  ...  0.052989 -0.054441\n",
              "1                    23.0                      11.0  ...  2.571407 -0.221754\n",
              "2                    16.0                       7.0  ...  2.518969 -0.762181\n",
              "\n",
              "[3 rows x 50 columns]"
            ]
          },
          "metadata": {
            "tags": []
          },
          "execution_count": 658
        }
      ]
    },
    {
      "cell_type": "code",
      "metadata": {
        "id": "pAstpYtUsYYV",
        "colab_type": "code",
        "colab": {}
      },
      "source": [
        "## 저장 \n",
        "X_train.to_json('X_train.json', orient='table')\n",
        "\"\"\"\n",
        "artist_cnt, gn_cnt, season, year_section -> 4차원\n",
        "장르 cnt-hot-encoding : 비율 -> 30차원\n",
        "태그 w2v -> 16차원\n",
        "\n",
        "총 input features 50차원\n",
        "\"\"\""
      ],
      "execution_count": 659,
      "outputs": []
    },
    {
      "cell_type": "code",
      "metadata": {
        "id": "BlZlw8z8yTrF",
        "colab_type": "code",
        "colab": {
          "base_uri": "https://localhost:8080/",
          "height": 58
        },
        "outputId": "1c3d84ed-9fdb-45cb-8a64-a1c181c4f0ee"
      },
      "source": [
        "X_train = X_train.astype(float)\n",
        "X_spr = spr.csr_matrix(X_train)\n",
        "X_spr"
      ],
      "execution_count": 662,
      "outputs": [
        {
          "output_type": "execute_result",
          "data": {
            "text/plain": [
              "<92056x50 sparse matrix of type '<class 'numpy.float64'>'\n",
              "\twith 2415613 stored elements in Compressed Sparse Row format>"
            ]
          },
          "metadata": {
            "tags": []
          },
          "execution_count": 662
        }
      ]
    },
    {
      "cell_type": "code",
      "metadata": {
        "id": "AEqh7qlSyed_",
        "colab_type": "code",
        "colab": {
          "base_uri": "https://localhost:8080/",
          "height": 58
        },
        "outputId": "13edd40b-0324-458b-d5d1-dcdce31ff451"
      },
      "source": [
        "target"
      ],
      "execution_count": 663,
      "outputs": [
        {
          "output_type": "execute_result",
          "data": {
            "text/plain": [
              "<144674x92056 sparse matrix of type '<class 'numpy.float64'>'\n",
              "\twith 3626357 stored elements in Compressed Sparse Column format>"
            ]
          },
          "metadata": {
            "tags": []
          },
          "execution_count": 663
        }
      ]
    },
    {
      "cell_type": "code",
      "metadata": {
        "id": "LZoAmB7My7K6",
        "colab_type": "code",
        "colab": {
          "base_uri": "https://localhost:8080/",
          "height": 58
        },
        "outputId": "521eed68-d184-4e95-c685-5e0e770541d9"
      },
      "source": [
        "full = hstack((X_spr,target.T))\n",
        "full = full.tocsc() ; full"
      ],
      "execution_count": 664,
      "outputs": [
        {
          "output_type": "execute_result",
          "data": {
            "text/plain": [
              "<92056x144724 sparse matrix of type '<class 'numpy.float64'>'\n",
              "\twith 6041970 stored elements in Compressed Sparse Column format>"
            ]
          },
          "metadata": {
            "tags": []
          },
          "execution_count": 664
        }
      ]
    },
    {
      "cell_type": "markdown",
      "metadata": {
        "id": "R7SPAqvnzX1D",
        "colab_type": "text"
      },
      "source": [
        "# Modeling"
      ]
    },
    {
      "cell_type": "code",
      "metadata": {
        "id": "eFPmdPXczZS6",
        "colab_type": "code",
        "colab": {}
      },
      "source": [
        "from sklearn.linear_model import ElasticNet, Lasso,  BayesianRidge, LassoLarsIC\n",
        "from sklearn.ensemble import RandomForestRegressor,  GradientBoostingRegressor\n",
        "from sklearn.kernel_ridge import KernelRidge\n",
        "from sklearn.pipeline import make_pipeline\n",
        "from sklearn.preprocessing import RobustScaler\n",
        "from sklearn.base import BaseEstimator, TransformerMixin, RegressorMixin, clone\n",
        "from sklearn.model_selection import KFold, cross_val_score, train_test_split\n",
        "from sklearn.metrics import mean_squared_error\n",
        "from xgboost import XGBRegressor\n",
        "import xgboost as xgb\n",
        "import lightgbm as lgb\n",
        "from sklearn.svm import SVR\n",
        "from sklearn.ensemble import RandomForestRegressor\n",
        "from sklearn.datasets import make_regression\n",
        "from sklearn.model_selection import GridSearchCV\n",
        "import random"
      ],
      "execution_count": 665,
      "outputs": []
    },
    {
      "cell_type": "markdown",
      "metadata": {
        "id": "pM77hcCo0PxL",
        "colab_type": "text"
      },
      "source": [
        "## sample test"
      ]
    },
    {
      "cell_type": "code",
      "metadata": {
        "id": "cE8fznjw7spP",
        "colab_type": "code",
        "colab": {}
      },
      "source": [
        "def rmsle(y, y_pred):\n",
        "    return np.sqrt(mean_squared_error(y, y_pred))"
      ],
      "execution_count": null,
      "outputs": []
    },
    {
      "cell_type": "code",
      "metadata": {
        "id": "vKVWn4aCNumq",
        "colab_type": "code",
        "colab": {}
      },
      "source": [
        "import joblib\n",
        "from tqdm import tqdm\n",
        "\n",
        "X = full[0:50].T.todense()\n",
        "lst = list(range(92056))\n",
        "\n",
        "for i in range(50,144724):\n",
        "    song = full[i]\n",
        "    y = song.data\n",
        "    \n",
        "    neg_1 = list(set(lst) - set(song.indices))\n",
        "\n",
        "    k = round(len(y)*1.5)\n",
        "    neg_idx = random.choices(neg_1, k=k)\n",
        "\n",
        "    X_input = X[neg_idx+list(song.indices), :]\n",
        "\n",
        "    Y = np.concatenate((y, np.zeros(k)))\n",
        "\n",
        "    # X_neg = pd.DataFrame(np.array(X_neg).reshape(round(len(y)*1.5),50))\n",
        "    # X_neg['y'] = 0\n",
        "\n",
        "    # total = pd.concat([df_X_1,X_neg])\n",
        "\n",
        "    # Y = df_X_1.pop('y')\n",
        "    # X_input = df_X_1\n",
        "    model_lgb = lgb.LGBMRegressor(n_estimators=300)\n",
        "\n",
        "    model_lgb.fit(X_input, Y)\n",
        "\n",
        "    lgb_train_pred = model_lgb.predict(X_input)\n",
        "\n",
        "    print(rmsle(Y, lgb_train_pred))    \n",
        "    # # model_xgb_2 = xgb.XGBRegressor(learning_rate=0.01,max_depth=3,n_estimators=300,objective ='reg:squarederror')\n",
        "    # model_xgb_2.fit(X_input, Y)\n",
        "    # xgb_train_pred = model_xgb_2.predict(X_input)\n",
        "\n",
        "    #joblib.dump(model_lgb,'./XGBOOST/{}_model'.format(i-50))\n",
        "\n",
        "    # print(\"{} rmse : {}\".format(i-50,rmsle(Y, xgb_train_pred)))"
      ],
      "execution_count": null,
      "outputs": []
    },
    {
      "cell_type": "markdown",
      "metadata": {
        "id": "K9u0fdO-oeZ-",
        "colab_type": "text"
      },
      "source": [
        "# CF inference"
      ]
    },
    {
      "cell_type": "code",
      "metadata": {
        "id": "M7-SFU33BnTz",
        "colab_type": "code",
        "colab": {}
      },
      "source": [
        "from tqdm import tqdm\n",
        "\n",
        "def rec(pids):\n",
        "  tt = 1\n",
        "\n",
        "  res = []\n",
        "\n",
        "  for pid in tqdm(pids): # pids로 test.index 들어옴. 따라서 플레이리스트마다 아래 과정 실행하는 것.\n",
        "    p = np.zeros((n_songs,1)) \n",
        "    # n_songs) 플레이리스트에 있는 곡만 포함한듯?\n",
        "    # song 개수만큼 0으로 채워진 array 생성\n",
        "    p[test.loc[pid,'songs_id']] = 1 # 이번 플레이리스트에서 있는 song_id는 1로 바꿔줌\n",
        "\n",
        "    val = train_songs_A.dot(p) \n",
        "    # train_songs_A > plylst-songs sparse 행렬 (115071 x 638336) / p > (638336 x 1)\n",
        "    # 전체 플레이리스트 정보 x 이번 플레이리스트 > 둘 다 가지고 있는 곡 개수\n",
        "\n",
        "    songs_already = test.loc[pid,\"songs_id\"]\n",
        "    tags_already = test.loc[pid,\"tags_id\"]\n",
        "\n",
        "    cand_song = train_songs_A_T.dot(val)\n",
        "    # 플레이리스트 쌍마다 공통 곡의 수를 가중치로 하여 곡과 태그를 추천하는 방식\n",
        "    # (638336 x 115071) x (115071 x 1) = (638336 x 1) > 어떤 플레이리스트에 있는 곡(값 1) x 겹치는 곡 수를 더해서 곡 별 일종의 점수 부여\n",
        "    cand_song_idx = cand_song.reshape(-1).argsort()[-150:][::-1] # reshape) ex. (3,1) > (3,) / argsort) 작은 값부터 순서대로 데이터 인덱스 반환 / 큰 값부터 150개 자르고, 순서 뒤집음\n",
        "\n",
        "    cand_song_idx = cand_song_idx[np.isin(cand_song_idx, songs_already) == False][:100]\n",
        "    rec_song_idx = [song_sid_id[i] for i in cand_song_idx]\n",
        "\n",
        "    cand_tag = train_tags_A_T.dot(val)\n",
        "    cand_tag_idx = cand_tag.reshape(-1).argsort()[-15:][::-1]\n",
        "\n",
        "    cand_tag_idx = cand_tag_idx[np.isin(cand_tag_idx, tags_already) == False][:10]\n",
        "    rec_tag_idx = [tag_tid_id[i] for i in cand_tag_idx]\n",
        "\n",
        "    res.append({\n",
        "        \"id\":plylst_nid_id[pid],\n",
        "        \"songs\":rec_song_idx,\n",
        "        \"tags\":rec_tag_idx\n",
        "    })\n",
        "\n",
        "    if tt % 1000 == 0:\n",
        "      print(tt)\n",
        "\n",
        "    tt += 1\n",
        "  return res"
      ],
      "execution_count": null,
      "outputs": []
    },
    {
      "cell_type": "code",
      "metadata": {
        "id": "1hIrJbEEtc9X",
        "colab_type": "code",
        "colab": {
          "base_uri": "https://localhost:8080/",
          "height": 465
        },
        "outputId": "bc8c0d0e-e0fe-4d27-f524-d3241301996d"
      },
      "source": [
        "answers = rec(test.index)"
      ],
      "execution_count": null,
      "outputs": [
        {
          "output_type": "stream",
          "text": [
            "  4%|▍         | 1003/23015 [00:50<17:52, 20.52it/s]"
          ],
          "name": "stderr"
        },
        {
          "output_type": "stream",
          "text": [
            "1000\n"
          ],
          "name": "stdout"
        },
        {
          "output_type": "stream",
          "text": [
            "  9%|▊         | 2004/23015 [01:40<17:32, 19.96it/s]"
          ],
          "name": "stderr"
        },
        {
          "output_type": "stream",
          "text": [
            "2000\n"
          ],
          "name": "stdout"
        },
        {
          "output_type": "stream",
          "text": [
            " 13%|█▎        | 3004/23015 [02:30<16:28, 20.24it/s]"
          ],
          "name": "stderr"
        },
        {
          "output_type": "stream",
          "text": [
            "3000\n"
          ],
          "name": "stdout"
        },
        {
          "output_type": "stream",
          "text": [
            " 17%|█▋        | 4002/23015 [03:19<15:39, 20.24it/s]"
          ],
          "name": "stderr"
        },
        {
          "output_type": "stream",
          "text": [
            "4000\n"
          ],
          "name": "stdout"
        },
        {
          "output_type": "stream",
          "text": [
            " 22%|██▏       | 5002/23015 [04:08<15:32, 19.32it/s]"
          ],
          "name": "stderr"
        },
        {
          "output_type": "stream",
          "text": [
            "5000\n"
          ],
          "name": "stdout"
        },
        {
          "output_type": "stream",
          "text": [
            " 26%|██▌       | 6003/23015 [04:58<14:07, 20.07it/s]"
          ],
          "name": "stderr"
        },
        {
          "output_type": "stream",
          "text": [
            "6000\n"
          ],
          "name": "stdout"
        },
        {
          "output_type": "stream",
          "text": [
            " 30%|███       | 7001/23015 [05:47<13:09, 20.27it/s]"
          ],
          "name": "stderr"
        },
        {
          "output_type": "stream",
          "text": [
            "7000\n"
          ],
          "name": "stdout"
        },
        {
          "output_type": "stream",
          "text": [
            " 35%|███▍      | 8004/23015 [06:36<12:12, 20.49it/s]"
          ],
          "name": "stderr"
        },
        {
          "output_type": "stream",
          "text": [
            "8000\n"
          ],
          "name": "stdout"
        },
        {
          "output_type": "stream",
          "text": [
            " 39%|███▉      | 9004/23015 [07:26<11:28, 20.36it/s]"
          ],
          "name": "stderr"
        },
        {
          "output_type": "stream",
          "text": [
            "9000\n"
          ],
          "name": "stdout"
        },
        {
          "output_type": "stream",
          "text": [
            " 43%|████▎     | 10004/23015 [08:15<10:35, 20.49it/s]"
          ],
          "name": "stderr"
        },
        {
          "output_type": "stream",
          "text": [
            "10000\n"
          ],
          "name": "stdout"
        },
        {
          "output_type": "stream",
          "text": [
            " 48%|████▊     | 11002/23015 [09:04<09:53, 20.24it/s]"
          ],
          "name": "stderr"
        },
        {
          "output_type": "stream",
          "text": [
            "11000\n"
          ],
          "name": "stdout"
        },
        {
          "output_type": "stream",
          "text": [
            " 52%|█████▏    | 12004/23015 [09:53<08:53, 20.66it/s]"
          ],
          "name": "stderr"
        },
        {
          "output_type": "stream",
          "text": [
            "12000\n"
          ],
          "name": "stdout"
        },
        {
          "output_type": "stream",
          "text": [
            " 57%|█████▋    | 13004/23015 [10:42<08:09, 20.44it/s]"
          ],
          "name": "stderr"
        },
        {
          "output_type": "stream",
          "text": [
            "13000\n"
          ],
          "name": "stdout"
        },
        {
          "output_type": "stream",
          "text": [
            " 61%|██████    | 14002/23015 [11:31<07:23, 20.34it/s]"
          ],
          "name": "stderr"
        },
        {
          "output_type": "stream",
          "text": [
            "14000\n"
          ],
          "name": "stdout"
        },
        {
          "output_type": "stream",
          "text": [
            " 65%|██████▌   | 15004/23015 [12:20<06:34, 20.32it/s]"
          ],
          "name": "stderr"
        },
        {
          "output_type": "stream",
          "text": [
            "15000\n"
          ],
          "name": "stdout"
        },
        {
          "output_type": "stream",
          "text": [
            " 70%|██████▉   | 16001/23015 [13:09<05:40, 20.59it/s]"
          ],
          "name": "stderr"
        },
        {
          "output_type": "stream",
          "text": [
            "16000\n"
          ],
          "name": "stdout"
        },
        {
          "output_type": "stream",
          "text": [
            " 74%|███████▍  | 17003/23015 [13:59<04:53, 20.48it/s]"
          ],
          "name": "stderr"
        },
        {
          "output_type": "stream",
          "text": [
            "17000\n"
          ],
          "name": "stdout"
        },
        {
          "output_type": "stream",
          "text": [
            " 78%|███████▊  | 18003/23015 [14:47<04:11, 19.94it/s]"
          ],
          "name": "stderr"
        },
        {
          "output_type": "stream",
          "text": [
            "18000\n"
          ],
          "name": "stdout"
        },
        {
          "output_type": "stream",
          "text": [
            " 83%|████████▎ | 19004/23015 [15:36<03:18, 20.17it/s]"
          ],
          "name": "stderr"
        },
        {
          "output_type": "stream",
          "text": [
            "19000\n"
          ],
          "name": "stdout"
        },
        {
          "output_type": "stream",
          "text": [
            " 87%|████████▋ | 20002/23015 [16:27<02:36, 19.28it/s]"
          ],
          "name": "stderr"
        },
        {
          "output_type": "stream",
          "text": [
            "20000\n"
          ],
          "name": "stdout"
        },
        {
          "output_type": "stream",
          "text": [
            " 91%|█████████▏| 21003/23015 [17:18<01:42, 19.72it/s]"
          ],
          "name": "stderr"
        },
        {
          "output_type": "stream",
          "text": [
            "21000\n"
          ],
          "name": "stdout"
        },
        {
          "output_type": "stream",
          "text": [
            " 96%|█████████▌| 22004/23015 [18:08<00:48, 20.80it/s]"
          ],
          "name": "stderr"
        },
        {
          "output_type": "stream",
          "text": [
            "22000\n"
          ],
          "name": "stdout"
        },
        {
          "output_type": "stream",
          "text": [
            "100%|█████████▉| 23004/23015 [18:58<00:00, 19.87it/s]"
          ],
          "name": "stderr"
        },
        {
          "output_type": "stream",
          "text": [
            "23000\n"
          ],
          "name": "stdout"
        },
        {
          "output_type": "stream",
          "text": [
            "100%|██████████| 23015/23015 [18:58<00:00, 20.21it/s]\n"
          ],
          "name": "stderr"
        }
      ]
    },
    {
      "cell_type": "code",
      "metadata": {
        "id": "u6mlhlBNtrQR",
        "colab_type": "code",
        "colab": {}
      },
      "source": [
        "write_json(answers,\"results/results.json\")"
      ],
      "execution_count": null,
      "outputs": []
    },
    {
      "cell_type": "code",
      "metadata": {
        "id": "3QlePdF2tzPN",
        "colab_type": "code",
        "colab": {
          "base_uri": "https://localhost:8080/",
          "height": 73
        },
        "outputId": "77d60e94-80bc-4c77-ed43-ce63ca2f63f8"
      },
      "source": [
        "evaluator = CustomEvaluator()\n",
        "evaluator.evaluate(\"arena_data/answers/val.json\", \"arena_data/results/results.json\")\n",
        "\n",
        "# evaluator 주석처리한 에러 잡아줘야함 > 100곡, 10개 채우게\n",
        "# 점수 준 게 막 엄청난 성능향상을 가져오진 않는듯"
      ],
      "execution_count": null,
      "outputs": [
        {
          "output_type": "stream",
          "text": [
            "Music nDCG: 0.164403\n",
            "Tag nDCG: 0.333865\n",
            "Score: 0.189823\n"
          ],
          "name": "stdout"
        }
      ]
    }
  ]
}